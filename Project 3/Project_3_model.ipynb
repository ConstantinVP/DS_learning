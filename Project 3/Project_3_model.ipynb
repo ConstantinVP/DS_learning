{
 "cells": [
  {
   "cell_type": "markdown",
   "id": "769fbdb2",
   "metadata": {},
   "source": [
    "## 0. Подготовка данных\n",
    "\n",
    "### 0.1 Импорт библиотек"
   ]
  },
  {
   "cell_type": "code",
   "execution_count": 1,
   "id": "81a20841",
   "metadata": {
    "_cell_guid": "b1076dfc-b9ad-4769-8c92-a6c4dae69d19",
    "_uuid": "8f2839f25d086af736a60e9eeb907d3b93b6e0e5",
    "execution": {
     "iopub.execute_input": "2022-02-08T19:14:22.339329Z",
     "iopub.status.busy": "2022-02-08T19:14:22.338238Z",
     "iopub.status.idle": "2022-02-08T19:14:23.673423Z",
     "shell.execute_reply": "2022-02-08T19:14:23.673936Z",
     "shell.execute_reply.started": "2022-02-08T18:44:26.624161Z"
    },
    "papermill": {
     "duration": 1.363434,
     "end_time": "2022-02-08T19:14:23.674225",
     "exception": false,
     "start_time": "2022-02-08T19:14:22.310791",
     "status": "completed"
    },
    "tags": []
   },
   "outputs": [
    {
     "name": "stderr",
     "output_type": "stream",
     "text": [
      "[nltk_data] Downloading package vader_lexicon to\n",
      "[nltk_data]     C:\\Users\\Konstantin\\AppData\\Roaming\\nltk_data...\n"
     ]
    }
   ],
   "source": [
    "# This Python 3 environment comes with many helpful analytics libraries installed\n",
    "# It is defined by the kaggle/python Docker image: https://github.com/kaggle/docker-python\n",
    "# For example, here's several helpful packages to load\n",
    "\n",
    "import numpy as np # linear algebra\n",
    "import pandas as pd # data processing, CSV file I/O (e.g. pd.read_csv)\n",
    "import re\n",
    "import collections as coll\n",
    "import string\n",
    "import spacy\n",
    "import nltk\n",
    "from nltk.corpus import stopwords\n",
    "from nltk.sentiment.vader import SentimentIntensityAnalyzer\n",
    "nltk.download('vader_lexicon')\n",
    "\n",
    "# импортируем библиотеки для визуализации\n",
    "import matplotlib.pyplot as plt\n",
    "import seaborn as sns \n",
    "%matplotlib inline\n",
    "\n",
    "# Импортируем необходимые библиотеки:\n",
    "from sklearn.ensemble import RandomForestRegressor # инструмент для создания и обучения модели\n",
    "from sklearn import metrics # инструменты для оценки точности модели\n",
    "from sklearn.model_selection import train_test_split # Загружаем специальный удобный инструмент для разделения датасета\n",
    "from sklearn.preprocessing import MinMaxScaler # инструмент для масштабирования каждой функции до заданного диапазона\n",
    "from sklearn.feature_selection import f_classif\n",
    "\n",
    "import os\n",
    "for dirname, _, filenames in os.walk('/kaggle/input'):\n",
    "    for filename in filenames:\n",
    "        print(os.path.join(dirname, filename))\n"
   ]
  },
  {
   "cell_type": "markdown",
   "id": "f5429bb6",
   "metadata": {},
   "source": [
    "### 0.2 Константы"
   ]
  },
  {
   "cell_type": "code",
   "execution_count": 2,
   "id": "8bd9892a",
   "metadata": {
    "execution": {
     "iopub.execute_input": "2022-02-08T19:14:23.722495Z",
     "iopub.status.busy": "2022-02-08T19:14:23.721381Z",
     "iopub.status.idle": "2022-02-08T19:14:23.725121Z",
     "shell.execute_reply": "2022-02-08T19:14:23.725576Z",
     "shell.execute_reply.started": "2022-02-08T18:44:26.641433Z"
    },
    "papermill": {
     "duration": 0.028937,
     "end_time": "2022-02-08T19:14:23.725766",
     "exception": false,
     "start_time": "2022-02-08T19:14:23.696829",
     "status": "completed"
    },
    "tags": []
   },
   "outputs": [],
   "source": [
    "# фиксируем RANDOM_SEED, чтобы эксперименты был воспроизводим\n",
    "RANDOM_SEED = 42"
   ]
  },
  {
   "cell_type": "code",
   "execution_count": 3,
   "id": "814dbb0b",
   "metadata": {
    "execution": {
     "iopub.execute_input": "2022-02-08T19:14:23.771180Z",
     "iopub.status.busy": "2022-02-08T19:14:23.770572Z",
     "iopub.status.idle": "2022-02-08T19:14:28.207550Z",
     "shell.execute_reply": "2022-02-08T19:14:28.206673Z",
     "shell.execute_reply.started": "2022-02-08T18:44:26.648843Z"
    },
    "papermill": {
     "duration": 4.460662,
     "end_time": "2022-02-08T19:14:28.207868",
     "exception": false,
     "start_time": "2022-02-08T19:14:23.747206",
     "status": "completed"
    },
    "tags": []
   },
   "outputs": [],
   "source": [
    "# зафиксируем версию пакетов, чтобы эксперименты были воспроизводимы:\n",
    "!pip freeze > requirements.txt"
   ]
  },
  {
   "cell_type": "markdown",
   "id": "1cc6c58f",
   "metadata": {},
   "source": [
    "### 0.3 Импорт данных"
   ]
  },
  {
   "cell_type": "code",
   "execution_count": 4,
   "id": "5a12636b",
   "metadata": {},
   "outputs": [],
   "source": [
    "# Подгрузим наши данные из соревнования (код для kaggle):\n",
    "\n",
    "#DATA_DIR = '/kaggle/input/sf-booking/'\n",
    "#df_train = pd.read_csv(DATA_DIR+'/hotels_train.csv') # датасет для обучения\n",
    "#df_test = pd.read_csv(DATA_DIR+'hotels_test.csv') # датасет для предсказания\n",
    "#sample_submission = pd.read_csv(DATA_DIR+'/submission.csv') # самбмишн"
   ]
  },
  {
   "cell_type": "code",
   "execution_count": 6,
   "id": "f7f7c162",
   "metadata": {},
   "outputs": [],
   "source": [
    "# Подгрузим наши данные из соревнования (код для ПК):\n",
    "os.chdir(r'D:\\IDE\\Project 3\\kaggle\\input\\sf-booking')"
   ]
  },
  {
   "cell_type": "code",
   "execution_count": 7,
   "id": "85d4f284",
   "metadata": {},
   "outputs": [],
   "source": [
    "df_train = pd.read_csv('hotels_train.csv') # датасет для обучения\n",
    "df_test = pd.read_csv('hotels_test.csv') # датасет для предсказания\n",
    "sample_submission = pd.read_csv('submission.csv') # самбмишн\n"
   ]
  },
  {
   "cell_type": "markdown",
   "id": "c5773a70",
   "metadata": {},
   "source": [
    "### 0.4 Визуальный оценка данных"
   ]
  },
  {
   "cell_type": "code",
   "execution_count": 8,
   "id": "5aadcce6",
   "metadata": {
    "execution": {
     "iopub.execute_input": "2022-02-08T19:14:33.814184Z",
     "iopub.status.busy": "2022-02-08T19:14:33.813500Z",
     "iopub.status.idle": "2022-02-08T19:14:33.985724Z",
     "shell.execute_reply": "2022-02-08T19:14:33.986240Z",
     "shell.execute_reply.started": "2022-02-08T18:44:32.949435Z"
    },
    "papermill": {
     "duration": 0.201246,
     "end_time": "2022-02-08T19:14:33.986418",
     "exception": false,
     "start_time": "2022-02-08T19:14:33.785172",
     "status": "completed"
    },
    "tags": []
   },
   "outputs": [
    {
     "name": "stdout",
     "output_type": "stream",
     "text": [
      "<class 'pandas.core.frame.DataFrame'>\n",
      "RangeIndex: 386803 entries, 0 to 386802\n",
      "Data columns (total 17 columns):\n",
      " #   Column                                      Non-Null Count   Dtype  \n",
      "---  ------                                      --------------   -----  \n",
      " 0   hotel_address                               386803 non-null  object \n",
      " 1   additional_number_of_scoring                386803 non-null  int64  \n",
      " 2   review_date                                 386803 non-null  object \n",
      " 3   average_score                               386803 non-null  float64\n",
      " 4   hotel_name                                  386803 non-null  object \n",
      " 5   reviewer_nationality                        386803 non-null  object \n",
      " 6   negative_review                             386803 non-null  object \n",
      " 7   review_total_negative_word_counts           386803 non-null  int64  \n",
      " 8   total_number_of_reviews                     386803 non-null  int64  \n",
      " 9   positive_review                             386803 non-null  object \n",
      " 10  review_total_positive_word_counts           386803 non-null  int64  \n",
      " 11  total_number_of_reviews_reviewer_has_given  386803 non-null  int64  \n",
      " 12  reviewer_score                              386803 non-null  float64\n",
      " 13  tags                                        386803 non-null  object \n",
      " 14  days_since_review                           386803 non-null  object \n",
      " 15  lat                                         384355 non-null  float64\n",
      " 16  lng                                         384355 non-null  float64\n",
      "dtypes: float64(4), int64(5), object(8)\n",
      "memory usage: 50.2+ MB\n"
     ]
    }
   ],
   "source": [
    "df_train.info()"
   ]
  },
  {
   "cell_type": "code",
   "execution_count": 9,
   "id": "eff9e899",
   "metadata": {
    "execution": {
     "iopub.execute_input": "2022-02-08T19:14:34.040534Z",
     "iopub.status.busy": "2022-02-08T19:14:34.039607Z",
     "iopub.status.idle": "2022-02-08T19:14:34.067200Z",
     "shell.execute_reply": "2022-02-08T19:14:34.067646Z",
     "shell.execute_reply.started": "2022-02-08T18:44:33.295852Z"
    },
    "papermill": {
     "duration": 0.060301,
     "end_time": "2022-02-08T19:14:34.067848",
     "exception": false,
     "start_time": "2022-02-08T19:14:34.007547",
     "status": "completed"
    },
    "tags": []
   },
   "outputs": [
    {
     "data": {
      "text/html": [
       "<div>\n",
       "<style scoped>\n",
       "    .dataframe tbody tr th:only-of-type {\n",
       "        vertical-align: middle;\n",
       "    }\n",
       "\n",
       "    .dataframe tbody tr th {\n",
       "        vertical-align: top;\n",
       "    }\n",
       "\n",
       "    .dataframe thead th {\n",
       "        text-align: right;\n",
       "    }\n",
       "</style>\n",
       "<table border=\"1\" class=\"dataframe\">\n",
       "  <thead>\n",
       "    <tr style=\"text-align: right;\">\n",
       "      <th></th>\n",
       "      <th>hotel_address</th>\n",
       "      <th>additional_number_of_scoring</th>\n",
       "      <th>review_date</th>\n",
       "      <th>average_score</th>\n",
       "      <th>hotel_name</th>\n",
       "      <th>reviewer_nationality</th>\n",
       "      <th>negative_review</th>\n",
       "      <th>review_total_negative_word_counts</th>\n",
       "      <th>total_number_of_reviews</th>\n",
       "      <th>positive_review</th>\n",
       "      <th>review_total_positive_word_counts</th>\n",
       "      <th>total_number_of_reviews_reviewer_has_given</th>\n",
       "      <th>reviewer_score</th>\n",
       "      <th>tags</th>\n",
       "      <th>days_since_review</th>\n",
       "      <th>lat</th>\n",
       "      <th>lng</th>\n",
       "    </tr>\n",
       "  </thead>\n",
       "  <tbody>\n",
       "    <tr>\n",
       "      <th>0</th>\n",
       "      <td>Stratton Street Mayfair Westminster Borough Lo...</td>\n",
       "      <td>581</td>\n",
       "      <td>2/19/2016</td>\n",
       "      <td>8.4</td>\n",
       "      <td>The May Fair Hotel</td>\n",
       "      <td>United Kingdom</td>\n",
       "      <td>Leaving</td>\n",
       "      <td>3</td>\n",
       "      <td>1994</td>\n",
       "      <td>Staff were amazing</td>\n",
       "      <td>4</td>\n",
       "      <td>7</td>\n",
       "      <td>10.0</td>\n",
       "      <td>[' Leisure trip ', ' Couple ', ' Studio Suite ...</td>\n",
       "      <td>531 day</td>\n",
       "      <td>51.507894</td>\n",
       "      <td>-0.143671</td>\n",
       "    </tr>\n",
       "    <tr>\n",
       "      <th>1</th>\n",
       "      <td>130 134 Southampton Row Camden London WC1B 5AF...</td>\n",
       "      <td>299</td>\n",
       "      <td>1/12/2017</td>\n",
       "      <td>8.3</td>\n",
       "      <td>Mercure London Bloomsbury Hotel</td>\n",
       "      <td>United Kingdom</td>\n",
       "      <td>poor breakfast</td>\n",
       "      <td>3</td>\n",
       "      <td>1361</td>\n",
       "      <td>location</td>\n",
       "      <td>2</td>\n",
       "      <td>14</td>\n",
       "      <td>6.3</td>\n",
       "      <td>[' Business trip ', ' Couple ', ' Standard Dou...</td>\n",
       "      <td>203 day</td>\n",
       "      <td>51.521009</td>\n",
       "      <td>-0.123097</td>\n",
       "    </tr>\n",
       "    <tr>\n",
       "      <th>2</th>\n",
       "      <td>151 bis Rue de Rennes 6th arr 75006 Paris France</td>\n",
       "      <td>32</td>\n",
       "      <td>10/18/2016</td>\n",
       "      <td>8.9</td>\n",
       "      <td>Legend Saint Germain by Elegancia</td>\n",
       "      <td>China</td>\n",
       "      <td>No kettle in room</td>\n",
       "      <td>6</td>\n",
       "      <td>406</td>\n",
       "      <td>No Positive</td>\n",
       "      <td>0</td>\n",
       "      <td>14</td>\n",
       "      <td>7.5</td>\n",
       "      <td>[' Leisure trip ', ' Solo traveler ', ' Modern...</td>\n",
       "      <td>289 day</td>\n",
       "      <td>48.845377</td>\n",
       "      <td>2.325643</td>\n",
       "    </tr>\n",
       "    <tr>\n",
       "      <th>3</th>\n",
       "      <td>216 Avenue Jean Jaures 19th arr 75019 Paris Fr...</td>\n",
       "      <td>34</td>\n",
       "      <td>9/22/2015</td>\n",
       "      <td>7.5</td>\n",
       "      <td>Mercure Paris 19 Philharmonie La Villette</td>\n",
       "      <td>United Kingdom</td>\n",
       "      <td>No Negative</td>\n",
       "      <td>0</td>\n",
       "      <td>607</td>\n",
       "      <td>Friendly staff quiet comfortable room spotles...</td>\n",
       "      <td>11</td>\n",
       "      <td>8</td>\n",
       "      <td>10.0</td>\n",
       "      <td>[' Leisure trip ', ' Solo traveler ', ' Standa...</td>\n",
       "      <td>681 day</td>\n",
       "      <td>48.888697</td>\n",
       "      <td>2.394540</td>\n",
       "    </tr>\n",
       "    <tr>\n",
       "      <th>4</th>\n",
       "      <td>Molenwerf 1 1014 AG Amsterdam Netherlands</td>\n",
       "      <td>914</td>\n",
       "      <td>3/5/2016</td>\n",
       "      <td>8.5</td>\n",
       "      <td>Golden Tulip Amsterdam West</td>\n",
       "      <td>Poland</td>\n",
       "      <td>Torn sheets</td>\n",
       "      <td>4</td>\n",
       "      <td>7586</td>\n",
       "      <td>The staff was very friendly and helpful Break...</td>\n",
       "      <td>20</td>\n",
       "      <td>10</td>\n",
       "      <td>9.6</td>\n",
       "      <td>[' Business trip ', ' Couple ', ' Standard Dou...</td>\n",
       "      <td>516 day</td>\n",
       "      <td>52.385601</td>\n",
       "      <td>4.847060</td>\n",
       "    </tr>\n",
       "  </tbody>\n",
       "</table>\n",
       "</div>"
      ],
      "text/plain": [
       "                                       hotel_address  \\\n",
       "0  Stratton Street Mayfair Westminster Borough Lo...   \n",
       "1  130 134 Southampton Row Camden London WC1B 5AF...   \n",
       "2   151 bis Rue de Rennes 6th arr 75006 Paris France   \n",
       "3  216 Avenue Jean Jaures 19th arr 75019 Paris Fr...   \n",
       "4          Molenwerf 1 1014 AG Amsterdam Netherlands   \n",
       "\n",
       "   additional_number_of_scoring review_date  average_score  \\\n",
       "0                           581   2/19/2016            8.4   \n",
       "1                           299   1/12/2017            8.3   \n",
       "2                            32  10/18/2016            8.9   \n",
       "3                            34   9/22/2015            7.5   \n",
       "4                           914    3/5/2016            8.5   \n",
       "\n",
       "                                  hotel_name reviewer_nationality  \\\n",
       "0                         The May Fair Hotel      United Kingdom    \n",
       "1            Mercure London Bloomsbury Hotel      United Kingdom    \n",
       "2          Legend Saint Germain by Elegancia               China    \n",
       "3  Mercure Paris 19 Philharmonie La Villette      United Kingdom    \n",
       "4                Golden Tulip Amsterdam West              Poland    \n",
       "\n",
       "       negative_review  review_total_negative_word_counts  \\\n",
       "0             Leaving                                   3   \n",
       "1       poor breakfast                                  3   \n",
       "2   No kettle in room                                   6   \n",
       "3          No Negative                                  0   \n",
       "4         Torn sheets                                   4   \n",
       "\n",
       "   total_number_of_reviews                                    positive_review  \\\n",
       "0                     1994                                 Staff were amazing   \n",
       "1                     1361                                           location   \n",
       "2                      406                                        No Positive   \n",
       "3                      607   Friendly staff quiet comfortable room spotles...   \n",
       "4                     7586   The staff was very friendly and helpful Break...   \n",
       "\n",
       "   review_total_positive_word_counts  \\\n",
       "0                                  4   \n",
       "1                                  2   \n",
       "2                                  0   \n",
       "3                                 11   \n",
       "4                                 20   \n",
       "\n",
       "   total_number_of_reviews_reviewer_has_given  reviewer_score  \\\n",
       "0                                           7            10.0   \n",
       "1                                          14             6.3   \n",
       "2                                          14             7.5   \n",
       "3                                           8            10.0   \n",
       "4                                          10             9.6   \n",
       "\n",
       "                                                tags days_since_review  \\\n",
       "0  [' Leisure trip ', ' Couple ', ' Studio Suite ...           531 day   \n",
       "1  [' Business trip ', ' Couple ', ' Standard Dou...           203 day   \n",
       "2  [' Leisure trip ', ' Solo traveler ', ' Modern...           289 day   \n",
       "3  [' Leisure trip ', ' Solo traveler ', ' Standa...           681 day   \n",
       "4  [' Business trip ', ' Couple ', ' Standard Dou...           516 day   \n",
       "\n",
       "         lat       lng  \n",
       "0  51.507894 -0.143671  \n",
       "1  51.521009 -0.123097  \n",
       "2  48.845377  2.325643  \n",
       "3  48.888697  2.394540  \n",
       "4  52.385601  4.847060  "
      ]
     },
     "execution_count": 9,
     "metadata": {},
     "output_type": "execute_result"
    }
   ],
   "source": [
    "df_train.head()"
   ]
  },
  {
   "cell_type": "code",
   "execution_count": 10,
   "id": "f2a61b14",
   "metadata": {
    "execution": {
     "iopub.execute_input": "2022-02-08T19:14:34.129923Z",
     "iopub.status.busy": "2022-02-08T19:14:34.129023Z",
     "iopub.status.idle": "2022-02-08T19:14:34.201112Z",
     "shell.execute_reply": "2022-02-08T19:14:34.201672Z",
     "shell.execute_reply.started": "2022-02-08T18:44:33.315329Z"
    },
    "papermill": {
     "duration": 0.104528,
     "end_time": "2022-02-08T19:14:34.201919",
     "exception": false,
     "start_time": "2022-02-08T19:14:34.097391",
     "status": "completed"
    },
    "tags": []
   },
   "outputs": [
    {
     "name": "stdout",
     "output_type": "stream",
     "text": [
      "<class 'pandas.core.frame.DataFrame'>\n",
      "RangeIndex: 128935 entries, 0 to 128934\n",
      "Data columns (total 16 columns):\n",
      " #   Column                                      Non-Null Count   Dtype  \n",
      "---  ------                                      --------------   -----  \n",
      " 0   hotel_address                               128935 non-null  object \n",
      " 1   additional_number_of_scoring                128935 non-null  int64  \n",
      " 2   review_date                                 128935 non-null  object \n",
      " 3   average_score                               128935 non-null  float64\n",
      " 4   hotel_name                                  128935 non-null  object \n",
      " 5   reviewer_nationality                        128935 non-null  object \n",
      " 6   negative_review                             128935 non-null  object \n",
      " 7   review_total_negative_word_counts           128935 non-null  int64  \n",
      " 8   total_number_of_reviews                     128935 non-null  int64  \n",
      " 9   positive_review                             128935 non-null  object \n",
      " 10  review_total_positive_word_counts           128935 non-null  int64  \n",
      " 11  total_number_of_reviews_reviewer_has_given  128935 non-null  int64  \n",
      " 12  tags                                        128935 non-null  object \n",
      " 13  days_since_review                           128935 non-null  object \n",
      " 14  lat                                         128115 non-null  float64\n",
      " 15  lng                                         128115 non-null  float64\n",
      "dtypes: float64(3), int64(5), object(8)\n",
      "memory usage: 15.7+ MB\n"
     ]
    }
   ],
   "source": [
    "df_test.info()"
   ]
  },
  {
   "cell_type": "code",
   "execution_count": 11,
   "id": "ff071ddd",
   "metadata": {
    "execution": {
     "iopub.execute_input": "2022-02-08T19:14:34.253561Z",
     "iopub.status.busy": "2022-02-08T19:14:34.252940Z",
     "iopub.status.idle": "2022-02-08T19:14:34.267949Z",
     "shell.execute_reply": "2022-02-08T19:14:34.268388Z",
     "shell.execute_reply.started": "2022-02-08T18:44:33.439055Z"
    },
    "papermill": {
     "duration": 0.041895,
     "end_time": "2022-02-08T19:14:34.268570",
     "exception": false,
     "start_time": "2022-02-08T19:14:34.226675",
     "status": "completed"
    },
    "tags": []
   },
   "outputs": [
    {
     "data": {
      "text/html": [
       "<div>\n",
       "<style scoped>\n",
       "    .dataframe tbody tr th:only-of-type {\n",
       "        vertical-align: middle;\n",
       "    }\n",
       "\n",
       "    .dataframe tbody tr th {\n",
       "        vertical-align: top;\n",
       "    }\n",
       "\n",
       "    .dataframe thead th {\n",
       "        text-align: right;\n",
       "    }\n",
       "</style>\n",
       "<table border=\"1\" class=\"dataframe\">\n",
       "  <thead>\n",
       "    <tr style=\"text-align: right;\">\n",
       "      <th></th>\n",
       "      <th>hotel_address</th>\n",
       "      <th>additional_number_of_scoring</th>\n",
       "      <th>review_date</th>\n",
       "      <th>average_score</th>\n",
       "      <th>hotel_name</th>\n",
       "      <th>reviewer_nationality</th>\n",
       "      <th>negative_review</th>\n",
       "      <th>review_total_negative_word_counts</th>\n",
       "      <th>total_number_of_reviews</th>\n",
       "      <th>positive_review</th>\n",
       "      <th>review_total_positive_word_counts</th>\n",
       "      <th>total_number_of_reviews_reviewer_has_given</th>\n",
       "      <th>tags</th>\n",
       "      <th>days_since_review</th>\n",
       "      <th>lat</th>\n",
       "      <th>lng</th>\n",
       "    </tr>\n",
       "  </thead>\n",
       "  <tbody>\n",
       "    <tr>\n",
       "      <th>0</th>\n",
       "      <td>Via Senigallia 6 20161 Milan Italy</td>\n",
       "      <td>904</td>\n",
       "      <td>7/21/2017</td>\n",
       "      <td>8.1</td>\n",
       "      <td>Hotel Da Vinci</td>\n",
       "      <td>United Kingdom</td>\n",
       "      <td>Would have appreciated a shop in the hotel th...</td>\n",
       "      <td>52</td>\n",
       "      <td>16670</td>\n",
       "      <td>Hotel was great clean friendly staff free bre...</td>\n",
       "      <td>62</td>\n",
       "      <td>1</td>\n",
       "      <td>[' Leisure trip ', ' Couple ', ' Double Room '...</td>\n",
       "      <td>13 days</td>\n",
       "      <td>45.533137</td>\n",
       "      <td>9.171102</td>\n",
       "    </tr>\n",
       "    <tr>\n",
       "      <th>1</th>\n",
       "      <td>Arlandaweg 10 Westpoort 1043 EW Amsterdam Neth...</td>\n",
       "      <td>612</td>\n",
       "      <td>12/12/2016</td>\n",
       "      <td>8.6</td>\n",
       "      <td>Urban Lodge Hotel</td>\n",
       "      <td>Belgium</td>\n",
       "      <td>No tissue paper box was present at the room</td>\n",
       "      <td>10</td>\n",
       "      <td>5018</td>\n",
       "      <td>No Positive</td>\n",
       "      <td>0</td>\n",
       "      <td>7</td>\n",
       "      <td>[' Leisure trip ', ' Group ', ' Triple Room ',...</td>\n",
       "      <td>234 day</td>\n",
       "      <td>52.385649</td>\n",
       "      <td>4.834443</td>\n",
       "    </tr>\n",
       "    <tr>\n",
       "      <th>2</th>\n",
       "      <td>Mallorca 251 Eixample 08008 Barcelona Spain</td>\n",
       "      <td>46</td>\n",
       "      <td>11/26/2015</td>\n",
       "      <td>8.3</td>\n",
       "      <td>Alexandra Barcelona A DoubleTree by Hilton</td>\n",
       "      <td>Sweden</td>\n",
       "      <td>Pillows</td>\n",
       "      <td>3</td>\n",
       "      <td>351</td>\n",
       "      <td>Nice welcoming and service</td>\n",
       "      <td>5</td>\n",
       "      <td>15</td>\n",
       "      <td>[' Business trip ', ' Solo traveler ', ' Twin ...</td>\n",
       "      <td>616 day</td>\n",
       "      <td>41.393192</td>\n",
       "      <td>2.161520</td>\n",
       "    </tr>\n",
       "    <tr>\n",
       "      <th>3</th>\n",
       "      <td>Piazza Della Repubblica 17 Central Station 201...</td>\n",
       "      <td>241</td>\n",
       "      <td>10/17/2015</td>\n",
       "      <td>9.1</td>\n",
       "      <td>Hotel Principe Di Savoia</td>\n",
       "      <td>United States of America</td>\n",
       "      <td>No Negative</td>\n",
       "      <td>0</td>\n",
       "      <td>1543</td>\n",
       "      <td>Everything including the nice upgrade The Hot...</td>\n",
       "      <td>27</td>\n",
       "      <td>9</td>\n",
       "      <td>[' Leisure trip ', ' Couple ', ' Ambassador Ju...</td>\n",
       "      <td>656 day</td>\n",
       "      <td>45.479888</td>\n",
       "      <td>9.196298</td>\n",
       "    </tr>\n",
       "    <tr>\n",
       "      <th>4</th>\n",
       "      <td>Singel 303 309 Amsterdam City Center 1012 WJ A...</td>\n",
       "      <td>834</td>\n",
       "      <td>5/16/2016</td>\n",
       "      <td>9.1</td>\n",
       "      <td>Hotel Esther a</td>\n",
       "      <td>United Kingdom</td>\n",
       "      <td>No Negative</td>\n",
       "      <td>0</td>\n",
       "      <td>4687</td>\n",
       "      <td>Lovely hotel v welcoming staff</td>\n",
       "      <td>7</td>\n",
       "      <td>2</td>\n",
       "      <td>[' Business trip ', ' Solo traveler ', ' Class...</td>\n",
       "      <td>444 day</td>\n",
       "      <td>52.370545</td>\n",
       "      <td>4.888644</td>\n",
       "    </tr>\n",
       "  </tbody>\n",
       "</table>\n",
       "</div>"
      ],
      "text/plain": [
       "                                       hotel_address  \\\n",
       "0                 Via Senigallia 6 20161 Milan Italy   \n",
       "1  Arlandaweg 10 Westpoort 1043 EW Amsterdam Neth...   \n",
       "2        Mallorca 251 Eixample 08008 Barcelona Spain   \n",
       "3  Piazza Della Repubblica 17 Central Station 201...   \n",
       "4  Singel 303 309 Amsterdam City Center 1012 WJ A...   \n",
       "\n",
       "   additional_number_of_scoring review_date  average_score  \\\n",
       "0                           904   7/21/2017            8.1   \n",
       "1                           612  12/12/2016            8.6   \n",
       "2                            46  11/26/2015            8.3   \n",
       "3                           241  10/17/2015            9.1   \n",
       "4                           834   5/16/2016            9.1   \n",
       "\n",
       "                                   hotel_name        reviewer_nationality  \\\n",
       "0                              Hotel Da Vinci             United Kingdom    \n",
       "1                           Urban Lodge Hotel                    Belgium    \n",
       "2  Alexandra Barcelona A DoubleTree by Hilton                     Sweden    \n",
       "3                    Hotel Principe Di Savoia   United States of America    \n",
       "4                              Hotel Esther a             United Kingdom    \n",
       "\n",
       "                                     negative_review  \\\n",
       "0   Would have appreciated a shop in the hotel th...   \n",
       "1        No tissue paper box was present at the room   \n",
       "2                                           Pillows    \n",
       "3                                        No Negative   \n",
       "4                                        No Negative   \n",
       "\n",
       "   review_total_negative_word_counts  total_number_of_reviews  \\\n",
       "0                                 52                    16670   \n",
       "1                                 10                     5018   \n",
       "2                                  3                      351   \n",
       "3                                  0                     1543   \n",
       "4                                  0                     4687   \n",
       "\n",
       "                                     positive_review  \\\n",
       "0   Hotel was great clean friendly staff free bre...   \n",
       "1                                        No Positive   \n",
       "2                         Nice welcoming and service   \n",
       "3   Everything including the nice upgrade The Hot...   \n",
       "4                    Lovely hotel v welcoming staff    \n",
       "\n",
       "   review_total_positive_word_counts  \\\n",
       "0                                 62   \n",
       "1                                  0   \n",
       "2                                  5   \n",
       "3                                 27   \n",
       "4                                  7   \n",
       "\n",
       "   total_number_of_reviews_reviewer_has_given  \\\n",
       "0                                           1   \n",
       "1                                           7   \n",
       "2                                          15   \n",
       "3                                           9   \n",
       "4                                           2   \n",
       "\n",
       "                                                tags days_since_review  \\\n",
       "0  [' Leisure trip ', ' Couple ', ' Double Room '...           13 days   \n",
       "1  [' Leisure trip ', ' Group ', ' Triple Room ',...           234 day   \n",
       "2  [' Business trip ', ' Solo traveler ', ' Twin ...           616 day   \n",
       "3  [' Leisure trip ', ' Couple ', ' Ambassador Ju...           656 day   \n",
       "4  [' Business trip ', ' Solo traveler ', ' Class...           444 day   \n",
       "\n",
       "         lat       lng  \n",
       "0  45.533137  9.171102  \n",
       "1  52.385649  4.834443  \n",
       "2  41.393192  2.161520  \n",
       "3  45.479888  9.196298  \n",
       "4  52.370545  4.888644  "
      ]
     },
     "execution_count": 11,
     "metadata": {},
     "output_type": "execute_result"
    }
   ],
   "source": [
    "df_test.head()"
   ]
  },
  {
   "cell_type": "code",
   "execution_count": 12,
   "id": "a42b8ffe",
   "metadata": {
    "execution": {
     "iopub.execute_input": "2022-02-08T19:14:34.316935Z",
     "iopub.status.busy": "2022-02-08T19:14:34.316327Z",
     "iopub.status.idle": "2022-02-08T19:14:34.323236Z",
     "shell.execute_reply": "2022-02-08T19:14:34.323678Z",
     "shell.execute_reply.started": "2022-02-08T18:44:33.456558Z"
    },
    "papermill": {
     "duration": 0.032568,
     "end_time": "2022-02-08T19:14:34.323861",
     "exception": false,
     "start_time": "2022-02-08T19:14:34.291293",
     "status": "completed"
    },
    "tags": []
   },
   "outputs": [
    {
     "data": {
      "text/html": [
       "<div>\n",
       "<style scoped>\n",
       "    .dataframe tbody tr th:only-of-type {\n",
       "        vertical-align: middle;\n",
       "    }\n",
       "\n",
       "    .dataframe tbody tr th {\n",
       "        vertical-align: top;\n",
       "    }\n",
       "\n",
       "    .dataframe thead th {\n",
       "        text-align: right;\n",
       "    }\n",
       "</style>\n",
       "<table border=\"1\" class=\"dataframe\">\n",
       "  <thead>\n",
       "    <tr style=\"text-align: right;\">\n",
       "      <th></th>\n",
       "      <th>reviewer_score</th>\n",
       "      <th>id</th>\n",
       "    </tr>\n",
       "  </thead>\n",
       "  <tbody>\n",
       "    <tr>\n",
       "      <th>0</th>\n",
       "      <td>1</td>\n",
       "      <td>488440</td>\n",
       "    </tr>\n",
       "    <tr>\n",
       "      <th>1</th>\n",
       "      <td>10</td>\n",
       "      <td>274649</td>\n",
       "    </tr>\n",
       "  </tbody>\n",
       "</table>\n",
       "</div>"
      ],
      "text/plain": [
       "   reviewer_score      id\n",
       "0               1  488440\n",
       "1              10  274649"
      ]
     },
     "execution_count": 12,
     "metadata": {},
     "output_type": "execute_result"
    }
   ],
   "source": [
    "sample_submission.head(2)"
   ]
  },
  {
   "cell_type": "code",
   "execution_count": 13,
   "id": "f00eb590",
   "metadata": {
    "execution": {
     "iopub.execute_input": "2022-02-08T19:14:34.372564Z",
     "iopub.status.busy": "2022-02-08T19:14:34.371990Z",
     "iopub.status.idle": "2022-02-08T19:14:34.382350Z",
     "shell.execute_reply": "2022-02-08T19:14:34.382803Z",
     "shell.execute_reply.started": "2022-02-08T18:44:33.464464Z"
    },
    "papermill": {
     "duration": 0.036517,
     "end_time": "2022-02-08T19:14:34.382984",
     "exception": false,
     "start_time": "2022-02-08T19:14:34.346467",
     "status": "completed"
    },
    "tags": []
   },
   "outputs": [
    {
     "name": "stdout",
     "output_type": "stream",
     "text": [
      "<class 'pandas.core.frame.DataFrame'>\n",
      "RangeIndex: 128935 entries, 0 to 128934\n",
      "Data columns (total 2 columns):\n",
      " #   Column          Non-Null Count   Dtype\n",
      "---  ------          --------------   -----\n",
      " 0   reviewer_score  128935 non-null  int64\n",
      " 1   id              128935 non-null  int64\n",
      "dtypes: int64(2)\n",
      "memory usage: 2.0 MB\n"
     ]
    }
   ],
   "source": [
    "sample_submission.info()"
   ]
  },
  {
   "cell_type": "code",
   "execution_count": 14,
   "id": "82718822",
   "metadata": {
    "execution": {
     "iopub.execute_input": "2022-02-08T19:14:34.432723Z",
     "iopub.status.busy": "2022-02-08T19:14:34.432113Z",
     "iopub.status.idle": "2022-02-08T19:14:34.920690Z",
     "shell.execute_reply": "2022-02-08T19:14:34.920082Z",
     "shell.execute_reply.started": "2022-02-08T18:44:33.480147Z"
    },
    "papermill": {
     "duration": 0.514636,
     "end_time": "2022-02-08T19:14:34.920844",
     "exception": false,
     "start_time": "2022-02-08T19:14:34.406208",
     "status": "completed"
    },
    "tags": []
   },
   "outputs": [],
   "source": [
    "# ВАЖНО! для корректной обработки признаков объединяем трейн и тест в один датасет\n",
    "df_train['sample'] = 1 # помечаем где у нас трейн\n",
    "df_test['sample'] = 0 # помечаем где у нас тест\n",
    "df_test['reviewer_score'] = 0 # в тесте у нас нет значения reviewer_score, мы его должны предсказать, по этому пока просто заполняем нулями\n",
    "\n",
    "data = df_test.append(df_train, sort=False).reset_index(drop=True) # объединяем"
   ]
  },
  {
   "cell_type": "code",
   "execution_count": 15,
   "id": "9c492391",
   "metadata": {
    "execution": {
     "iopub.execute_input": "2022-02-08T19:14:34.973792Z",
     "iopub.status.busy": "2022-02-08T19:14:34.973193Z",
     "iopub.status.idle": "2022-02-08T19:14:35.186288Z",
     "shell.execute_reply": "2022-02-08T19:14:35.185728Z",
     "shell.execute_reply.started": "2022-02-08T18:44:34.015455Z"
    },
    "papermill": {
     "duration": 0.242101,
     "end_time": "2022-02-08T19:14:35.186448",
     "exception": false,
     "start_time": "2022-02-08T19:14:34.944347",
     "status": "completed"
    },
    "tags": []
   },
   "outputs": [
    {
     "name": "stdout",
     "output_type": "stream",
     "text": [
      "<class 'pandas.core.frame.DataFrame'>\n",
      "RangeIndex: 515738 entries, 0 to 515737\n",
      "Data columns (total 18 columns):\n",
      " #   Column                                      Non-Null Count   Dtype  \n",
      "---  ------                                      --------------   -----  \n",
      " 0   hotel_address                               515738 non-null  object \n",
      " 1   additional_number_of_scoring                515738 non-null  int64  \n",
      " 2   review_date                                 515738 non-null  object \n",
      " 3   average_score                               515738 non-null  float64\n",
      " 4   hotel_name                                  515738 non-null  object \n",
      " 5   reviewer_nationality                        515738 non-null  object \n",
      " 6   negative_review                             515738 non-null  object \n",
      " 7   review_total_negative_word_counts           515738 non-null  int64  \n",
      " 8   total_number_of_reviews                     515738 non-null  int64  \n",
      " 9   positive_review                             515738 non-null  object \n",
      " 10  review_total_positive_word_counts           515738 non-null  int64  \n",
      " 11  total_number_of_reviews_reviewer_has_given  515738 non-null  int64  \n",
      " 12  tags                                        515738 non-null  object \n",
      " 13  days_since_review                           515738 non-null  object \n",
      " 14  lat                                         512470 non-null  float64\n",
      " 15  lng                                         512470 non-null  float64\n",
      " 16  sample                                      515738 non-null  int64  \n",
      " 17  reviewer_score                              515738 non-null  float64\n",
      "dtypes: float64(4), int64(6), object(8)\n",
      "memory usage: 70.8+ MB\n"
     ]
    }
   ],
   "source": [
    "data.info()"
   ]
  },
  {
   "cell_type": "code",
   "execution_count": 16,
   "id": "f7d3c4cf",
   "metadata": {},
   "outputs": [
    {
     "name": "stdout",
     "output_type": "stream",
     "text": [
      "Признаки и количество пропущенных значений:\n",
      "lat    3268\n",
      "lng    3268\n",
      "dtype: int64\n"
     ]
    }
   ],
   "source": [
    "hotels_nulls = data.isnull().sum()\n",
    "nulls = hotels_nulls[hotels_nulls > 0]\n",
    "print('Признаки и количество пропущенных значений:\\n{}'.format(nulls))"
   ]
  },
  {
   "cell_type": "markdown",
   "id": "1f6ea528",
   "metadata": {},
   "source": [
    "## 1. Проектирование признаков (Feature Engineering)\n",
    "\n",
    "### 1.1 Географическое расположение"
   ]
  },
  {
   "cell_type": "code",
   "execution_count": 17,
   "id": "57055389",
   "metadata": {},
   "outputs": [
    {
     "data": {
      "text/plain": [
       "['Milan', 'Amsterdam', 'Barcelona', 'London', 'Paris', 'Vienna']"
      ]
     },
     "execution_count": 17,
     "metadata": {},
     "output_type": "execute_result"
    }
   ],
   "source": [
    "#Выделим название города и страны из адреса:\n",
    "# Обратим внимание, что есть United Kingdom - состоящее из двух слов\n",
    "data['hotel_country'] = data['hotel_address'].apply(lambda x: x.split()[-1])\n",
    "data['hotel_country'] = data['hotel_country'].apply(lambda x:'United Kingdom' if x == 'Kingdom' else x)\n",
    "country_list = list(data['hotel_country'].unique()) # в датасете отели из 6 стран\n",
    "\n",
    "data['city'] = data['hotel_address'].apply(lambda x: x.split()[-2])\n",
    "data['city'] = data['city'].apply(lambda x: 'London' if x == 'United' else x)\n",
    "city = list(data['city'].unique())\n",
    "city# и 6 городов-столиц"
   ]
  },
  {
   "cell_type": "code",
   "execution_count": 18,
   "id": "15b9af25",
   "metadata": {
    "execution": {
     "iopub.execute_input": "2022-02-08T19:14:35.237845Z",
     "iopub.status.busy": "2022-02-08T19:14:35.236834Z",
     "iopub.status.idle": "2022-02-08T19:14:35.259821Z",
     "shell.execute_reply": "2022-02-08T19:14:35.259247Z",
     "shell.execute_reply.started": "2022-02-08T18:44:34.479202Z"
    },
    "papermill": {
     "duration": 0.04969,
     "end_time": "2022-02-08T19:14:35.259972",
     "exception": false,
     "start_time": "2022-02-08T19:14:35.210282",
     "status": "completed"
    },
    "tags": []
   },
   "outputs": [
    {
     "data": {
      "text/html": [
       "<div>\n",
       "<style scoped>\n",
       "    .dataframe tbody tr th:only-of-type {\n",
       "        vertical-align: middle;\n",
       "    }\n",
       "\n",
       "    .dataframe tbody tr th {\n",
       "        vertical-align: top;\n",
       "    }\n",
       "\n",
       "    .dataframe thead th {\n",
       "        text-align: right;\n",
       "    }\n",
       "</style>\n",
       "<table border=\"1\" class=\"dataframe\">\n",
       "  <thead>\n",
       "    <tr style=\"text-align: right;\">\n",
       "      <th></th>\n",
       "      <th>hotel_address</th>\n",
       "      <th>additional_number_of_scoring</th>\n",
       "      <th>review_date</th>\n",
       "      <th>average_score</th>\n",
       "      <th>hotel_name</th>\n",
       "      <th>reviewer_nationality</th>\n",
       "      <th>negative_review</th>\n",
       "      <th>review_total_negative_word_counts</th>\n",
       "      <th>total_number_of_reviews</th>\n",
       "      <th>positive_review</th>\n",
       "      <th>review_total_positive_word_counts</th>\n",
       "      <th>total_number_of_reviews_reviewer_has_given</th>\n",
       "      <th>tags</th>\n",
       "      <th>days_since_review</th>\n",
       "      <th>lat</th>\n",
       "      <th>lng</th>\n",
       "      <th>sample</th>\n",
       "      <th>reviewer_score</th>\n",
       "      <th>hotel_country</th>\n",
       "      <th>city</th>\n",
       "    </tr>\n",
       "  </thead>\n",
       "  <tbody>\n",
       "    <tr>\n",
       "      <th>0</th>\n",
       "      <td>Via Senigallia 6 20161 Milan Italy</td>\n",
       "      <td>904</td>\n",
       "      <td>7/21/2017</td>\n",
       "      <td>8.1</td>\n",
       "      <td>Hotel Da Vinci</td>\n",
       "      <td>United Kingdom</td>\n",
       "      <td>Would have appreciated a shop in the hotel th...</td>\n",
       "      <td>52</td>\n",
       "      <td>16670</td>\n",
       "      <td>Hotel was great clean friendly staff free bre...</td>\n",
       "      <td>62</td>\n",
       "      <td>1</td>\n",
       "      <td>[' Leisure trip ', ' Couple ', ' Double Room '...</td>\n",
       "      <td>13 days</td>\n",
       "      <td>45.533137</td>\n",
       "      <td>9.171102</td>\n",
       "      <td>0</td>\n",
       "      <td>0.0</td>\n",
       "      <td>Italy</td>\n",
       "      <td>Milan</td>\n",
       "    </tr>\n",
       "    <tr>\n",
       "      <th>1</th>\n",
       "      <td>Arlandaweg 10 Westpoort 1043 EW Amsterdam Neth...</td>\n",
       "      <td>612</td>\n",
       "      <td>12/12/2016</td>\n",
       "      <td>8.6</td>\n",
       "      <td>Urban Lodge Hotel</td>\n",
       "      <td>Belgium</td>\n",
       "      <td>No tissue paper box was present at the room</td>\n",
       "      <td>10</td>\n",
       "      <td>5018</td>\n",
       "      <td>No Positive</td>\n",
       "      <td>0</td>\n",
       "      <td>7</td>\n",
       "      <td>[' Leisure trip ', ' Group ', ' Triple Room ',...</td>\n",
       "      <td>234 day</td>\n",
       "      <td>52.385649</td>\n",
       "      <td>4.834443</td>\n",
       "      <td>0</td>\n",
       "      <td>0.0</td>\n",
       "      <td>Netherlands</td>\n",
       "      <td>Amsterdam</td>\n",
       "    </tr>\n",
       "    <tr>\n",
       "      <th>2</th>\n",
       "      <td>Mallorca 251 Eixample 08008 Barcelona Spain</td>\n",
       "      <td>46</td>\n",
       "      <td>11/26/2015</td>\n",
       "      <td>8.3</td>\n",
       "      <td>Alexandra Barcelona A DoubleTree by Hilton</td>\n",
       "      <td>Sweden</td>\n",
       "      <td>Pillows</td>\n",
       "      <td>3</td>\n",
       "      <td>351</td>\n",
       "      <td>Nice welcoming and service</td>\n",
       "      <td>5</td>\n",
       "      <td>15</td>\n",
       "      <td>[' Business trip ', ' Solo traveler ', ' Twin ...</td>\n",
       "      <td>616 day</td>\n",
       "      <td>41.393192</td>\n",
       "      <td>2.161520</td>\n",
       "      <td>0</td>\n",
       "      <td>0.0</td>\n",
       "      <td>Spain</td>\n",
       "      <td>Barcelona</td>\n",
       "    </tr>\n",
       "    <tr>\n",
       "      <th>3</th>\n",
       "      <td>Piazza Della Repubblica 17 Central Station 201...</td>\n",
       "      <td>241</td>\n",
       "      <td>10/17/2015</td>\n",
       "      <td>9.1</td>\n",
       "      <td>Hotel Principe Di Savoia</td>\n",
       "      <td>United States of America</td>\n",
       "      <td>No Negative</td>\n",
       "      <td>0</td>\n",
       "      <td>1543</td>\n",
       "      <td>Everything including the nice upgrade The Hot...</td>\n",
       "      <td>27</td>\n",
       "      <td>9</td>\n",
       "      <td>[' Leisure trip ', ' Couple ', ' Ambassador Ju...</td>\n",
       "      <td>656 day</td>\n",
       "      <td>45.479888</td>\n",
       "      <td>9.196298</td>\n",
       "      <td>0</td>\n",
       "      <td>0.0</td>\n",
       "      <td>Italy</td>\n",
       "      <td>Milan</td>\n",
       "    </tr>\n",
       "    <tr>\n",
       "      <th>4</th>\n",
       "      <td>Singel 303 309 Amsterdam City Center 1012 WJ A...</td>\n",
       "      <td>834</td>\n",
       "      <td>5/16/2016</td>\n",
       "      <td>9.1</td>\n",
       "      <td>Hotel Esther a</td>\n",
       "      <td>United Kingdom</td>\n",
       "      <td>No Negative</td>\n",
       "      <td>0</td>\n",
       "      <td>4687</td>\n",
       "      <td>Lovely hotel v welcoming staff</td>\n",
       "      <td>7</td>\n",
       "      <td>2</td>\n",
       "      <td>[' Business trip ', ' Solo traveler ', ' Class...</td>\n",
       "      <td>444 day</td>\n",
       "      <td>52.370545</td>\n",
       "      <td>4.888644</td>\n",
       "      <td>0</td>\n",
       "      <td>0.0</td>\n",
       "      <td>Netherlands</td>\n",
       "      <td>Amsterdam</td>\n",
       "    </tr>\n",
       "  </tbody>\n",
       "</table>\n",
       "</div>"
      ],
      "text/plain": [
       "                                       hotel_address  \\\n",
       "0                 Via Senigallia 6 20161 Milan Italy   \n",
       "1  Arlandaweg 10 Westpoort 1043 EW Amsterdam Neth...   \n",
       "2        Mallorca 251 Eixample 08008 Barcelona Spain   \n",
       "3  Piazza Della Repubblica 17 Central Station 201...   \n",
       "4  Singel 303 309 Amsterdam City Center 1012 WJ A...   \n",
       "\n",
       "   additional_number_of_scoring review_date  average_score  \\\n",
       "0                           904   7/21/2017            8.1   \n",
       "1                           612  12/12/2016            8.6   \n",
       "2                            46  11/26/2015            8.3   \n",
       "3                           241  10/17/2015            9.1   \n",
       "4                           834   5/16/2016            9.1   \n",
       "\n",
       "                                   hotel_name        reviewer_nationality  \\\n",
       "0                              Hotel Da Vinci             United Kingdom    \n",
       "1                           Urban Lodge Hotel                    Belgium    \n",
       "2  Alexandra Barcelona A DoubleTree by Hilton                     Sweden    \n",
       "3                    Hotel Principe Di Savoia   United States of America    \n",
       "4                              Hotel Esther a             United Kingdom    \n",
       "\n",
       "                                     negative_review  \\\n",
       "0   Would have appreciated a shop in the hotel th...   \n",
       "1        No tissue paper box was present at the room   \n",
       "2                                           Pillows    \n",
       "3                                        No Negative   \n",
       "4                                        No Negative   \n",
       "\n",
       "   review_total_negative_word_counts  total_number_of_reviews  \\\n",
       "0                                 52                    16670   \n",
       "1                                 10                     5018   \n",
       "2                                  3                      351   \n",
       "3                                  0                     1543   \n",
       "4                                  0                     4687   \n",
       "\n",
       "                                     positive_review  \\\n",
       "0   Hotel was great clean friendly staff free bre...   \n",
       "1                                        No Positive   \n",
       "2                         Nice welcoming and service   \n",
       "3   Everything including the nice upgrade The Hot...   \n",
       "4                    Lovely hotel v welcoming staff    \n",
       "\n",
       "   review_total_positive_word_counts  \\\n",
       "0                                 62   \n",
       "1                                  0   \n",
       "2                                  5   \n",
       "3                                 27   \n",
       "4                                  7   \n",
       "\n",
       "   total_number_of_reviews_reviewer_has_given  \\\n",
       "0                                           1   \n",
       "1                                           7   \n",
       "2                                          15   \n",
       "3                                           9   \n",
       "4                                           2   \n",
       "\n",
       "                                                tags days_since_review  \\\n",
       "0  [' Leisure trip ', ' Couple ', ' Double Room '...           13 days   \n",
       "1  [' Leisure trip ', ' Group ', ' Triple Room ',...           234 day   \n",
       "2  [' Business trip ', ' Solo traveler ', ' Twin ...           616 day   \n",
       "3  [' Leisure trip ', ' Couple ', ' Ambassador Ju...           656 day   \n",
       "4  [' Business trip ', ' Solo traveler ', ' Class...           444 day   \n",
       "\n",
       "         lat       lng  sample  reviewer_score hotel_country       city  \n",
       "0  45.533137  9.171102       0             0.0         Italy      Milan  \n",
       "1  52.385649  4.834443       0             0.0   Netherlands  Amsterdam  \n",
       "2  41.393192  2.161520       0             0.0         Spain  Barcelona  \n",
       "3  45.479888  9.196298       0             0.0         Italy      Milan  \n",
       "4  52.370545  4.888644       0             0.0   Netherlands  Amsterdam  "
      ]
     },
     "metadata": {},
     "output_type": "display_data"
    }
   ],
   "source": [
    "# Вариант 1: заполним координаты отеля медианным значением координат города\n",
    "\n",
    "\n",
    "#for city in set(data['city']):\n",
    "    #med_lat = data[data['city'] == city ]['lat'].median()\n",
    "    #med_lng = data[data['city'] == city ]['lng'].median()\n",
    "    \n",
    "    #data.loc[(data.city == city), 'lat'] = med_lat\n",
    "    #data.loc[(data.city == city), 'lng'] = med_lng\n",
    "\n",
    "# Вариант 2: заполним пустые координаты отеля нулевыми значениями координат\n",
    "#data['lat'] = data['lat'].fillna(0, inplace=True)\n",
    "#data['lng'] = data['lng'].fillna(0, inplace=True)\n",
    "\n",
    "# Вариант 3: заполним пустые координаты отеля значениями координат города:\n",
    "values_lat = {\n",
    "    'Milan': 45.4642700,\n",
    "    'Amsterdam': 52.3740300,\n",
    "    'Barcelona': 41.3887900,\n",
    "    'London': 51.5085300,\n",
    "    'Paris': 48.8534100,\n",
    "    'Vienna': 48.2084900\n",
    "}\n",
    "\n",
    "values_lng = {\n",
    "    'Milan': 9.1895100,\n",
    "    'Amsterdam': 4.8896900,\n",
    "    'Barcelona': 2.1589900,\n",
    "    'London': -0.1257400,\n",
    "    'Paris': 2.3488000,\n",
    "    'Vienna': 16.3720800\n",
    "}\n",
    "\n",
    "# заполняем широту\n",
    "data['lat'] = data[['city','lat']].apply(lambda x: values_lat[x.city] if np.isnan(x.lat) else x.lat, axis=1)\n",
    "# заполняем долготу\n",
    "data['lng'] = data[['city','lng']].apply(lambda x: values_lng[x.city] if np.isnan(x.lng) else x.lng, axis=1)\n",
    "\n",
    "display(data.head())"
   ]
  },
  {
   "cell_type": "code",
   "execution_count": 19,
   "id": "a778bd79",
   "metadata": {},
   "outputs": [],
   "source": [
    "#Кодируем название страны и создаём новый признак\n",
    "data['hotel_country'] = data['hotel_country'].astype('category')\n",
    "data['hotel_country_code'] = data['hotel_country'].cat.codes"
   ]
  },
  {
   "cell_type": "markdown",
   "id": "9a2c50b2",
   "metadata": {},
   "source": [
    "### 1.2 Гражданство рецензента"
   ]
  },
  {
   "cell_type": "code",
   "execution_count": 20,
   "id": "f9e8540f",
   "metadata": {},
   "outputs": [
    {
     "name": "stdout",
     "output_type": "stream",
     "text": [
      "Рецензенты из 227 стран оставили отзывы и оценки об отеле.\n"
     ]
    }
   ],
   "source": [
    "data['reviewer_nationality'] = data['reviewer_nationality'].apply(lambda x: x.strip()) #отсекаем пробелы в начале и в конце строки\n",
    "print('Рецензенты из {} стран оставили отзывы и оценки об отеле.'.format(data['reviewer_nationality'].nunique()))\n",
    "\n",
    "# кодируем информацию о стране рецензента:\n",
    "data['reviewer_nationality'] = data['reviewer_nationality'].astype('category')\n",
    "data['reviewer_nationality_code'] = data['reviewer_nationality'].cat.codes"
   ]
  },
  {
   "cell_type": "markdown",
   "id": "4391fcca",
   "metadata": {},
   "source": [
    "### 1.3 Анализ тегов"
   ]
  },
  {
   "cell_type": "code",
   "execution_count": 21,
   "id": "92562898",
   "metadata": {},
   "outputs": [
    {
     "name": "stdout",
     "output_type": "stream",
     "text": [
      "Количество уникальных тэгов:  2428\n"
     ]
    }
   ],
   "source": [
    "#Выделим из столбца с тэгами: количество ночей в отеле, количество уникальных тэгов и самые популярные тэги\n",
    "def count_tags(tags):\n",
    "    express = re.findall(\"'[^\\'](.+?)[^\\']'\", tags)\n",
    "    return express\n",
    "\n",
    "print('Количество уникальных тэгов: ', data['tags'].apply(count_tags).explode().nunique())"
   ]
  },
  {
   "cell_type": "code",
   "execution_count": 22,
   "id": "bc841354",
   "metadata": {},
   "outputs": [
    {
     "name": "stdout",
     "output_type": "stream",
     "text": [
      "[('Leisure trip', 417778), ('Submitted from a mobile device', 307640), ('Couple', 252294)]\n",
      "Leisure trip\n",
      "Submitted from a mobile device\n",
      "Couple\n",
      "Stayed 1 night\n",
      "Stayed 2 nights\n",
      "Solo traveler\n",
      "Stayed 3 nights\n",
      "Business trip\n",
      "Group\n",
      "Family with young children\n",
      "Stayed 4 nights\n",
      "Double Room\n",
      "Standard Double Room\n",
      "Superior Double Room\n",
      "Family with older children\n"
     ]
    }
   ],
   "source": [
    "# Определяем ТОП-3 тегов представлен в наибольшем числе отзывов, а также ТОП-15\n",
    "cnt = coll.Counter() \n",
    "for i, row in data['tags'].items():\n",
    "    tmp = row.replace(\"[' \", \"\")\n",
    "    tmp = tmp.replace(\" ']\", '')\n",
    "    tmp = tmp.split(\" ', ' \")\n",
    "    cnt.update(tmp)\n",
    "print(cnt.most_common(3))\n",
    "\n",
    "for key, values in cnt.most_common(15): \n",
    "    print(key)"
   ]
  },
  {
   "cell_type": "code",
   "execution_count": 23,
   "id": "dd479ffa",
   "metadata": {},
   "outputs": [],
   "source": [
    "# Введем 3 новых признака из ТОП-3 тэгов\n",
    "# is_trip (если встречается тэг \"Leisure trip\")\n",
    "data['is_trip'] = data['tags'].apply(lambda x: 1 if ('Leisure trip' in x) else 0)\n",
    "# is_mobile (если встречается тэг \"Submitted from a mobile device\")\n",
    "data['is_mobile'] = data['tags'].apply(lambda x: 1 if ('Submitted from a mobile device' in x) else 0)\n",
    "# is_couple (если встречается тэг \"Couple\")\n",
    "data['is_couple'] = data['tags'].apply(lambda x: 1 if ('Couple' in x) else 0)"
   ]
  },
  {
   "cell_type": "code",
   "execution_count": 24,
   "id": "13ee0d21",
   "metadata": {},
   "outputs": [
    {
     "data": {
      "text/plain": [
       "<AxesSubplot:xlabel='count_nights', ylabel=\"('count', 'reviewer_score')\">"
      ]
     },
     "execution_count": 24,
     "metadata": {},
     "output_type": "execute_result"
    },
    {
     "data": {
      "image/png": "[encoded data removed]",
      "text/plain": [
       "<Figure size 1080x504 with 1 Axes>"
      ]
     },
     "metadata": {
      "needs_background": "light"
     },
     "output_type": "display_data"
    }
   ],
   "source": [
    "# Введем новый признак count_nights (количество ночей)\n",
    "def count_nights(tags):\n",
    "    express = re.findall(r'Stayed\\s([0-9]+)\\snight', tags)\n",
    "    return express\n",
    "\n",
    "data['count_nights'] = data['tags'].apply(count_nights)\n",
    "\n",
    "def convert(feature):\n",
    "    for elem, num in enumerate(feature):\n",
    "        return np.int8(num)\n",
    "    \n",
    "data['count_nights'] = data['count_nights'].apply(convert).convert_dtypes().fillna(1)\n",
    "\n",
    "# Построим график зависимости количества оценок от количества ночей в отели\n",
    "pivot_nights = pd.pivot_table(\n",
    "    data=data,\n",
    "    index='count_nights', \n",
    "    values='reviewer_score', \n",
    "    aggfunc=['count', 'mean'])\n",
    "fig1, ax1 = plt.subplots(figsize=(15, 7))\n",
    "plt.suptitle(\n",
    "    'Количество оценок в зависимости от проведённых в отеле ночей', size=20)\n",
    "sns.barplot(x=pivot_nights.index, y=pivot_nights[('count', 'reviewer_score')])"
   ]
  },
  {
   "cell_type": "markdown",
   "id": "be550153",
   "metadata": {},
   "source": [
    "### 1.4 Анализ дат и сезонности отзывов"
   ]
  },
  {
   "cell_type": "code",
   "execution_count": 25,
   "id": "f0b95bfb",
   "metadata": {},
   "outputs": [
    {
     "data": {
      "text/html": [
       "<div>\n",
       "<style scoped>\n",
       "    .dataframe tbody tr th:only-of-type {\n",
       "        vertical-align: middle;\n",
       "    }\n",
       "\n",
       "    .dataframe tbody tr th {\n",
       "        vertical-align: top;\n",
       "    }\n",
       "\n",
       "    .dataframe thead th {\n",
       "        text-align: right;\n",
       "    }\n",
       "</style>\n",
       "<table border=\"1\" class=\"dataframe\">\n",
       "  <thead>\n",
       "    <tr style=\"text-align: right;\">\n",
       "      <th></th>\n",
       "      <th>reviewer_score</th>\n",
       "    </tr>\n",
       "    <tr>\n",
       "      <th>review_month</th>\n",
       "      <th></th>\n",
       "    </tr>\n",
       "  </thead>\n",
       "  <tbody>\n",
       "    <tr>\n",
       "      <th>1</th>\n",
       "      <td>8.482245</td>\n",
       "    </tr>\n",
       "    <tr>\n",
       "      <th>2</th>\n",
       "      <td>8.534773</td>\n",
       "    </tr>\n",
       "    <tr>\n",
       "      <th>3</th>\n",
       "      <td>8.481505</td>\n",
       "    </tr>\n",
       "    <tr>\n",
       "      <th>4</th>\n",
       "      <td>8.432322</td>\n",
       "    </tr>\n",
       "    <tr>\n",
       "      <th>5</th>\n",
       "      <td>8.385711</td>\n",
       "    </tr>\n",
       "    <tr>\n",
       "      <th>6</th>\n",
       "      <td>8.387010</td>\n",
       "    </tr>\n",
       "    <tr>\n",
       "      <th>7</th>\n",
       "      <td>8.339102</td>\n",
       "    </tr>\n",
       "    <tr>\n",
       "      <th>8</th>\n",
       "      <td>8.412986</td>\n",
       "    </tr>\n",
       "    <tr>\n",
       "      <th>9</th>\n",
       "      <td>8.293349</td>\n",
       "    </tr>\n",
       "    <tr>\n",
       "      <th>10</th>\n",
       "      <td>8.262119</td>\n",
       "    </tr>\n",
       "    <tr>\n",
       "      <th>11</th>\n",
       "      <td>8.343183</td>\n",
       "    </tr>\n",
       "    <tr>\n",
       "      <th>12</th>\n",
       "      <td>8.431444</td>\n",
       "    </tr>\n",
       "  </tbody>\n",
       "</table>\n",
       "</div>"
      ],
      "text/plain": [
       "              reviewer_score\n",
       "review_month                \n",
       "1                   8.482245\n",
       "2                   8.534773\n",
       "3                   8.481505\n",
       "4                   8.432322\n",
       "5                   8.385711\n",
       "6                   8.387010\n",
       "7                   8.339102\n",
       "8                   8.412986\n",
       "9                   8.293349\n",
       "10                  8.262119\n",
       "11                  8.343183\n",
       "12                  8.431444"
      ]
     },
     "execution_count": 25,
     "metadata": {},
     "output_type": "execute_result"
    }
   ],
   "source": [
    "# Представим признак days_since_review в виде числа дней\n",
    "def count_days(feature):\n",
    "    count = re.findall(r'\\d+', feature)\n",
    "    return count\n",
    "    \n",
    "data['days_since_review'] = data['days_since_review'].apply(count_days)\n",
    "data['days_since_review'] = data['days_since_review'].apply(convert).convert_dtypes()\n",
    "\n",
    "# Приведём столбец review_date к типу datetime64:\n",
    "data['review_date'] = pd.to_datetime(data['review_date'])\n",
    "\n",
    "# Выделим новый признак: месяц года (\"review_month\")\n",
    "data['review_month'] = data['review_date'].dt.month\n",
    "score_month = data[data['sample']==1].pivot_table(\n",
    "    values='reviewer_score',\n",
    "    index='review_month',\n",
    "    aggfunc='mean'\n",
    "    )\n",
    "score_month"
   ]
  },
  {
   "cell_type": "code",
   "execution_count": 26,
   "id": "1a60eca1",
   "metadata": {},
   "outputs": [
    {
     "data": {
      "text/plain": [
       "(8.0, 8.7)"
      ]
     },
     "execution_count": 26,
     "metadata": {},
     "output_type": "execute_result"
    },
    {
     "data": {
      "image/png": "[encoded data removed]",
      "text/plain": [
       "<Figure size 1080x360 with 1 Axes>"
      ]
     },
     "metadata": {
      "needs_background": "light"
     },
     "output_type": "display_data"
    }
   ],
   "source": [
    "# Посмотрим на распределение оценок по месяцам\n",
    "fig2, ax2 = plt.subplots(figsize=(15, 5))\n",
    "plt.suptitle('Среднее значение целевого показателя в зависимости от месяца', size=16)\n",
    "bar_month = sns.barplot(\n",
    "    x=score_month.index, \n",
    "    y=score_month['reviewer_score'])\n",
    "ax2.set_xticklabels([\n",
    "    'Jan', 'Feb', 'Mar', 'Apr', 'May', 'Jun', \n",
    "    'Jul', 'Aug', 'Sep', 'Oct', 'Nov', 'Dec'])\n",
    "\n",
    "for p in bar_month.patches:\n",
    "    bar_month.annotate(\n",
    "        '{:.2f}'.format(p.get_height()), (p.get_x()+0.4, p.get_height()),\n",
    "    ha='center', va='bottom', fontsize=14)\n",
    "\n",
    "plt.ylim(8, 8.7)"
   ]
  },
  {
   "cell_type": "code",
   "execution_count": 27,
   "id": "6725e333",
   "metadata": {},
   "outputs": [
    {
     "data": {
      "text/plain": [
       "(30000.0, 50000.0)"
      ]
     },
     "execution_count": 27,
     "metadata": {},
     "output_type": "execute_result"
    },
    {
     "data": {
      "image/png": "[encoded data removed]",
      "text/plain": [
       "<Figure size 1080x504 with 1 Axes>"
      ]
     },
     "metadata": {
      "needs_background": "light"
     },
     "output_type": "display_data"
    }
   ],
   "source": [
    "# Также посмотрим на распределение количества отзывов по месяцам\n",
    "pivot_review = pd.pivot_table(\n",
    "    data=data,\n",
    "    index='review_month', \n",
    "    values='reviewer_score', \n",
    "    aggfunc=['count'])\n",
    "\n",
    "fig1, ax3 = plt.subplots(figsize=(15, 7))\n",
    "\n",
    "plt.suptitle(\n",
    "    'Распределение количества отзывов по месяцам', size=20)\n",
    "sns.barplot(x=pivot_review.index, y=pivot_review[('count', 'reviewer_score')])\n",
    "ax3.set_xlabel('Месяц оценки')\n",
    "ax3.set_ylabel('Колическтво отзывов')\n",
    "plt.ylim(30000, 50000)"
   ]
  },
  {
   "cell_type": "markdown",
   "id": "358eae04",
   "metadata": {},
   "source": [
    "Как видно картина по графикам отличается: с одной стороны минимальные оценки ставят в сентябре-октябре, с другой стороны, в эти месяцы количество отзывов на уровне среднегодовых значений. В тоже время, обращает на себя внимание количество положительных оценок в феврале, когда количества отзывов минимально. "
   ]
  },
  {
   "cell_type": "markdown",
   "id": "f7712fa7",
   "metadata": {},
   "source": [
    "### 1.5 Анализ общего количества отзывов (\"total_number_of_reviews_reviewer_has_given\")"
   ]
  },
  {
   "cell_type": "code",
   "execution_count": 28,
   "id": "50fa927d",
   "metadata": {},
   "outputs": [],
   "source": [
    "data['total_number_of_reviews_reviewer_has_given'].groupby(\n",
    "   pd.cut(data['total_number_of_reviews_reviewer_has_given'], \n",
    "   np.arange(0, 500, 50))\n",
    "   ).agg('count')\n",
    "\n",
    "data['total_number_of_reviews_reviewer_has_given'] = \\\n",
    "   data['total_number_of_reviews_reviewer_has_given'].apply(lambda x: np.log(x+1))"
   ]
  },
  {
   "cell_type": "markdown",
   "id": "cae12013",
   "metadata": {},
   "source": [
    "### 1.6 Семантический анализ негативных и позитивных отзывов"
   ]
  },
  {
   "cell_type": "code",
   "execution_count": 29,
   "id": "3c7b91f6",
   "metadata": {},
   "outputs": [
    {
     "data": {
      "text/plain": [
       "<matplotlib.legend.Legend at 0x2259bb8c3a0>"
      ]
     },
     "execution_count": 29,
     "metadata": {},
     "output_type": "execute_result"
    },
    {
     "data": {
      "image/png": "[encoded data removed]",
      "text/plain": [
       "<Figure size 1440x504 with 1 Axes>"
      ]
     },
     "metadata": {
      "needs_background": "light"
     },
     "output_type": "display_data"
    }
   ],
   "source": [
    "# Посмотрим на зависимость количества оценок и числа слов в отзыве\n",
    "fig4, ax4 = plt.subplots(figsize=(20, 7))\n",
    "plt.suptitle('Количество оценок и сама оценка в зависимости от числа слов в отзыве', size=16)\n",
    "negative = sns.lineplot(\n",
    "    data=data[data['sample']==1],\n",
    "    x='reviewer_score',\n",
    "    y='review_total_negative_word_counts',\n",
    "    color='pink', linewidth=3\n",
    ")\n",
    "positive = sns.lineplot(\n",
    "    data=data[data['sample']==1],\n",
    "    x='reviewer_score',\n",
    "    y='review_total_positive_word_counts',\n",
    "    color='green', linewidth=3\n",
    ")\n",
    "ax4.set_xlabel('Оценка')\n",
    "ax4.set_ylabel('Число слов в отзыве')\n",
    "ax4.legend(\n",
    "    ['Отрицательные отзывы', 'Количество слов в негативном отзыве', 'Положительные отзывы', 'Количество слов в позитивном отзыве'],\n",
    "    loc='upper right',\n",
    "    fontsize=10\n",
    "    )"
   ]
  },
  {
   "cell_type": "markdown",
   "id": "c57cd9dd",
   "metadata": {},
   "source": [
    "Из графика видно, что для отрицательных отзывов: чем ниже оценка, тем больше количество слов в отзыве. Для положительных отзывов: количество слов в отзыве возрастает с оценкой - чем больше понравился отель, теи больше постоялец хочет его отметить.\n",
    "Странно выглядят отрицательные отзывы, когда человек ставит высокую оценку, и наоборот."
   ]
  },
  {
   "cell_type": "code",
   "execution_count": 30,
   "id": "b8d6cf0c",
   "metadata": {},
   "outputs": [],
   "source": [
    "# Вычислим долю слов положительных комментариев среди всех комментариев. Пометим строку, если количество слов в пложительном комментарии преобладает над количеством слов в отрицательном.\n",
    "data['review_total_positive_word_counts_norm']  = pd.DataFrame(\n",
    "    MinMaxScaler().fit_transform(pd.DataFrame(data['review_total_positive_word_counts'])),\n",
    "    columns=['review_total_positive_word_counts'])\n",
    "\n",
    "data['review_total_negative_word_counts_norm']  = pd.DataFrame(\n",
    "    MinMaxScaler().fit_transform(pd.DataFrame(data['review_total_negative_word_counts'])),\n",
    "    columns=['review_total_negative_word_counts'])\n",
    "\n",
    "data['review_total_word_diff_norm'] = data['review_total_positive_word_counts_norm'] - data['review_total_negative_word_counts_norm']\n",
    "\n",
    "data['more_positive'] = data['review_total_word_diff_norm'].apply(lambda x: 1 if x >= 0 else 0)\n",
    "\n",
    "data.drop(\n",
    "    ['review_total_positive_word_counts_norm', 'review_total_negative_word_counts_norm'], \n",
    "    axis=1, inplace=True)\n",
    "\n",
    "data['review_total_word_sum'] = \\\n",
    "    data['review_total_positive_word_counts'] + \\\n",
    "    data['review_total_negative_word_counts']\n",
    "\n",
    "# пополам отрицательных и положительных\n",
    "data['positive_words_proportion'] = data.apply( lambda x: 0.5 if x['review_total_word_sum'] == 0 \\\n",
    "    else x['review_total_positive_word_counts'] / x['review_total_word_sum'],axis=1)\n",
    "\n",
    "data.drop('review_total_word_sum', axis = 1, inplace=True)"
   ]
  },
  {
   "cell_type": "markdown",
   "id": "feec8819",
   "metadata": {},
   "source": [
    "Для глубокого анализа отзывов (из структуры, эмоциональной окраски, качества) воспользуемся библиотекой VADER (класс SentimentIntensityAnalyzer) из библиотеки NLTK. Подробно можно почитать здесь: http://espressocode.top/python-sentiment-analysis-using-vader/."
   ]
  },
  {
   "cell_type": "code",
   "execution_count": 31,
   "id": "295a6417",
   "metadata": {},
   "outputs": [
    {
     "name": "stdout",
     "output_type": "stream",
     "text": [
      "Словарь оценок слова \"nothing\" до преобразований:\n",
      "{'neg': 0.0, 'neu': 1.0, 'pos': 0.0, 'compound': 0.0} \n",
      "\n",
      " - после преобразований (для негативного контекста):\n",
      "{'neg': 0.0, 'neu': 0.0, 'pos': 1.0, 'compound': 0.9325}\n",
      " - после преобразований (для позитивного контекста):\n",
      "{'neg': 1.0, 'neu': 0.0, 'pos': 0.0, 'compound': -0.9325}\n",
      "\n",
      "Словарь оценок фразы \"No Negative\":\n",
      "{'neg': 1.0, 'neu': 0.0, 'pos': 0.0, 'compound': -0.7096}\n",
      "Словарь оценок фразы \"Positive\":\n",
      "{'neg': 0.0, 'neu': 0.0, 'pos': 1.0, 'compound': 0.5574}\n"
     ]
    }
   ],
   "source": [
    "# Создаём объекты SentimentIntensityAnalyzer\n",
    "positive = SentimentIntensityAnalyzer()\n",
    "negative = SentimentIntensityAnalyzer()\n",
    "\n",
    "# посмотрим как изменится характеристика слова 'nothing':\n",
    "example = 'nothing'\n",
    "print(f'Словарь оценок слова \"{example}\" до преобразований:')\n",
    "print(negative.polarity_scores(example), '\\n')\n",
    "\n",
    "# добавим контекст:\n",
    "negative_words = {'small': -1, 'nothing': 10}\n",
    "positive_words = {'nothing': -10, 'everything': 10}\n",
    "negative.lexicon.update(negative_words)\n",
    "positive.lexicon.update(positive_words)\n",
    "\n",
    "print(f' - после преобразований (для негативного контекста):')\n",
    "print(negative.polarity_scores(example))\n",
    "print(f' - после преобразований (для позитивного контекста):')\n",
    "print(positive.polarity_scores(example))\n",
    "\n",
    "# фразы \"No Negative\" тонально будет нести негативную окраску:\n",
    "example = 'No Negative'\n",
    "print(f'\\nСловарь оценок фразы \"{example}\":')\n",
    "print(negative.polarity_scores(example))\n",
    "example = 'Positive'\n",
    "print(f'Словарь оценок фразы \"{example}\":')\n",
    "print(negative.polarity_scores(example))\n",
    "\n",
    "# меняем метки отсутствия частей отзыва:\n",
    "data['negative_review_temp'] = data['negative_review'].apply(lambda x: x.replace('No Negative', 'Positive'))\n",
    "data['positive_review_temp'] = data['positive_review'].apply(lambda x: x.replace('No Positive', 'Negative'))\n",
    "\n",
    "data['negative_review_sentiments'] = data['negative_review_temp'].apply(lambda x: negative.polarity_scores(x))\n",
    "\n",
    "data['positive_review_sentiments'] = data['positive_review_temp'].apply(lambda x: positive.polarity_scores(x))\n",
    "\n",
    "# формируем новые признаки:\n",
    "data['neg_review_sentiments_neg'] = data['negative_review_sentiments'].apply(lambda x: x['neg'])\n",
    "data['neg_review_sentiments_neu'] = data['negative_review_sentiments'].apply(lambda x: x['neu'])\n",
    "data['neg_review_sentiments_pos'] = data['negative_review_sentiments'].apply(lambda x: x['pos'])\n",
    "data['neg_review_sentiments_compound'] = data['negative_review_sentiments'].apply(lambda x: x['compound'])\n",
    "\n",
    "data['pos_review_sentiments_neg'] = data['positive_review_sentiments'].apply(lambda x: x['neg'])\n",
    "data['pos_review_sentiments_neu'] = data['positive_review_sentiments'].apply(lambda x: x['neu'])\n",
    "data['pos_review_sentiments_pos'] = data['positive_review_sentiments'].apply(lambda x: x['pos'])\n",
    "data['pos_review_sentiments_compound'] = data['positive_review_sentiments'].apply(lambda x: x['compound'])"
   ]
  },
  {
   "cell_type": "code",
   "execution_count": 32,
   "id": "1a53cd00",
   "metadata": {},
   "outputs": [
    {
     "name": "stdout",
     "output_type": "stream",
     "text": [
      "<class 'pandas.core.frame.DataFrame'>\n",
      "RangeIndex: 515738 entries, 0 to 515737\n",
      "Data columns (total 42 columns):\n",
      " #   Column                                      Non-Null Count   Dtype         \n",
      "---  ------                                      --------------   -----         \n",
      " 0   hotel_address                               515738 non-null  object        \n",
      " 1   additional_number_of_scoring                515738 non-null  int64         \n",
      " 2   review_date                                 515738 non-null  datetime64[ns]\n",
      " 3   average_score                               515738 non-null  float64       \n",
      " 4   hotel_name                                  515738 non-null  object        \n",
      " 5   reviewer_nationality                        515738 non-null  category      \n",
      " 6   negative_review                             515738 non-null  object        \n",
      " 7   review_total_negative_word_counts           515738 non-null  int64         \n",
      " 8   total_number_of_reviews                     515738 non-null  int64         \n",
      " 9   positive_review                             515738 non-null  object        \n",
      " 10  review_total_positive_word_counts           515738 non-null  int64         \n",
      " 11  total_number_of_reviews_reviewer_has_given  515738 non-null  float64       \n",
      " 12  tags                                        515738 non-null  object        \n",
      " 13  days_since_review                           515738 non-null  Int64         \n",
      " 14  lat                                         515738 non-null  float64       \n",
      " 15  lng                                         515738 non-null  float64       \n",
      " 16  sample                                      515738 non-null  int64         \n",
      " 17  reviewer_score                              515738 non-null  float64       \n",
      " 18  hotel_country                               515738 non-null  category      \n",
      " 19  city                                        515738 non-null  object        \n",
      " 20  hotel_country_code                          515738 non-null  int8          \n",
      " 21  reviewer_nationality_code                   515738 non-null  int16         \n",
      " 22  is_trip                                     515738 non-null  int64         \n",
      " 23  is_mobile                                   515738 non-null  int64         \n",
      " 24  is_couple                                   515738 non-null  int64         \n",
      " 25  count_nights                                515738 non-null  Int64         \n",
      " 26  review_month                                515738 non-null  int64         \n",
      " 27  review_total_word_diff_norm                 515738 non-null  float64       \n",
      " 28  more_positive                               515738 non-null  int64         \n",
      " 29  positive_words_proportion                   515738 non-null  float64       \n",
      " 30  negative_review_temp                        515738 non-null  object        \n",
      " 31  positive_review_temp                        515738 non-null  object        \n",
      " 32  negative_review_sentiments                  515738 non-null  object        \n",
      " 33  positive_review_sentiments                  515738 non-null  object        \n",
      " 34  neg_review_sentiments_neg                   515738 non-null  float64       \n",
      " 35  neg_review_sentiments_neu                   515738 non-null  float64       \n",
      " 36  neg_review_sentiments_pos                   515738 non-null  float64       \n",
      " 37  neg_review_sentiments_compound              515738 non-null  float64       \n",
      " 38  pos_review_sentiments_neg                   515738 non-null  float64       \n",
      " 39  pos_review_sentiments_neu                   515738 non-null  float64       \n",
      " 40  pos_review_sentiments_pos                   515738 non-null  float64       \n",
      " 41  pos_review_sentiments_compound              515738 non-null  float64       \n",
      "dtypes: Int64(2), category(2), datetime64[ns](1), float64(15), int16(1), int64(10), int8(1), object(10)\n",
      "memory usage: 153.5+ MB\n"
     ]
    }
   ],
   "source": [
    "data.info()"
   ]
  },
  {
   "cell_type": "markdown",
   "id": "d2e58c6f",
   "metadata": {},
   "source": [
    "## 2. Отбор признаков\n",
    "### 2.1 Очистка датасета от неинформативных и вспомогательных признаков"
   ]
  },
  {
   "cell_type": "code",
   "execution_count": 33,
   "id": "8e845f5c",
   "metadata": {
    "execution": {
     "iopub.execute_input": "2022-02-08T19:14:37.365016Z",
     "iopub.status.busy": "2022-02-08T19:14:37.364338Z",
     "iopub.status.idle": "2022-02-08T19:14:37.367440Z",
     "shell.execute_reply": "2022-02-08T19:14:37.366949Z",
     "shell.execute_reply.started": "2022-02-08T18:44:36.454378Z"
    },
    "papermill": {
     "duration": 0.064293,
     "end_time": "2022-02-08T19:14:37.367575",
     "exception": false,
     "start_time": "2022-02-08T19:14:37.303282",
     "status": "completed"
    },
    "tags": []
   },
   "outputs": [
    {
     "name": "stdout",
     "output_type": "stream",
     "text": [
      "<class 'pandas.core.frame.DataFrame'>\n",
      "RangeIndex: 515738 entries, 0 to 515737\n",
      "Data columns (total 29 columns):\n",
      " #   Column                                      Non-Null Count   Dtype  \n",
      "---  ------                                      --------------   -----  \n",
      " 0   additional_number_of_scoring                515738 non-null  int64  \n",
      " 1   average_score                               515738 non-null  float64\n",
      " 2   review_total_negative_word_counts           515738 non-null  int64  \n",
      " 3   total_number_of_reviews                     515738 non-null  int64  \n",
      " 4   review_total_positive_word_counts           515738 non-null  int64  \n",
      " 5   total_number_of_reviews_reviewer_has_given  515738 non-null  float64\n",
      " 6   days_since_review                           515738 non-null  Int64  \n",
      " 7   lat                                         515738 non-null  float64\n",
      " 8   lng                                         515738 non-null  float64\n",
      " 9   sample                                      515738 non-null  int64  \n",
      " 10  reviewer_score                              515738 non-null  float64\n",
      " 11  hotel_country_code                          515738 non-null  int8   \n",
      " 12  reviewer_nationality_code                   515738 non-null  int16  \n",
      " 13  is_trip                                     515738 non-null  int64  \n",
      " 14  is_mobile                                   515738 non-null  int64  \n",
      " 15  is_couple                                   515738 non-null  int64  \n",
      " 16  count_nights                                515738 non-null  Int64  \n",
      " 17  review_month                                515738 non-null  int64  \n",
      " 18  review_total_word_diff_norm                 515738 non-null  float64\n",
      " 19  more_positive                               515738 non-null  int64  \n",
      " 20  positive_words_proportion                   515738 non-null  float64\n",
      " 21  neg_review_sentiments_neg                   515738 non-null  float64\n",
      " 22  neg_review_sentiments_neu                   515738 non-null  float64\n",
      " 23  neg_review_sentiments_pos                   515738 non-null  float64\n",
      " 24  neg_review_sentiments_compound              515738 non-null  float64\n",
      " 25  pos_review_sentiments_neg                   515738 non-null  float64\n",
      " 26  pos_review_sentiments_neu                   515738 non-null  float64\n",
      " 27  pos_review_sentiments_pos                   515738 non-null  float64\n",
      " 28  pos_review_sentiments_compound              515738 non-null  float64\n",
      "dtypes: Int64(2), float64(15), int16(1), int64(10), int8(1)\n",
      "memory usage: 108.7 MB\n"
     ]
    }
   ],
   "source": [
    "# убираем признаки которые еще не успели обработать, \n",
    "# модель на признаках с dtypes \"object\" обучаться не будет, просто выберим их и удалим\n",
    "object_columns = [s for s in data.columns if data[s].dtypes == 'object']\n",
    "data.drop(object_columns, axis = 1, inplace=True)\n",
    "\n",
    "# также избавимся от других нечисловых признаков: category, datetime64[ns]\n",
    "cat_date_columns = [cd for cd in data.columns if ((data[cd].dtypes.name == 'category') or (data[cd].dtypes == 'datetime64[ns]'))]\n",
    "data.drop(cat_date_columns, axis = 1, inplace=True)\n",
    "\n",
    "data.info()"
   ]
  },
  {
   "cell_type": "markdown",
   "id": "99b8f22b",
   "metadata": {},
   "source": [
    "Как видно после очистки количество столбцов уменьшилось с 41 до 28"
   ]
  },
  {
   "cell_type": "code",
   "execution_count": 34,
   "id": "2cc303f7",
   "metadata": {},
   "outputs": [
    {
     "data": {
      "text/html": [
       "<div>\n",
       "<style scoped>\n",
       "    .dataframe tbody tr th:only-of-type {\n",
       "        vertical-align: middle;\n",
       "    }\n",
       "\n",
       "    .dataframe tbody tr th {\n",
       "        vertical-align: top;\n",
       "    }\n",
       "\n",
       "    .dataframe thead th {\n",
       "        text-align: right;\n",
       "    }\n",
       "</style>\n",
       "<table border=\"1\" class=\"dataframe\">\n",
       "  <thead>\n",
       "    <tr style=\"text-align: right;\">\n",
       "      <th></th>\n",
       "      <th>Column Name</th>\n",
       "      <th>Count Unique</th>\n",
       "      <th>Top Value</th>\n",
       "      <th>Top Value %</th>\n",
       "      <th>Top Value Count</th>\n",
       "    </tr>\n",
       "  </thead>\n",
       "  <tbody>\n",
       "  </tbody>\n",
       "</table>\n",
       "</div>"
      ],
      "text/plain": [
       "Empty DataFrame\n",
       "Columns: [Column Name, Count Unique, Top Value, Top Value %, Top Value Count]\n",
       "Index: []"
      ]
     },
     "execution_count": 34,
     "metadata": {},
     "output_type": "execute_result"
    }
   ],
   "source": [
    "def get_top_unique_values(df, level=0):\n",
    "   \"\"\"\n",
    "    Функция для получения инфомации по уникальным значениям в признаках\n",
    "\n",
    "    :param df: Датафрейм для анализа\n",
    "    :param level: Уровень уникальности в %, признаки ниже этого уровня не выводятся\n",
    "    :return: Возвращает датафрейм с именем признака, количестве уникальных значений, наиболее часто повторяющимся\n",
    "    уникальным значением, сколько % от выборки это значение занимает, количество повторов\n",
    "   \"\"\"\n",
    "\n",
    "   cols = list(df.columns)\n",
    "\n",
    "   # создаём пустой список\n",
    "   unique_list = []\n",
    "\n",
    "   for col in cols:\n",
    "      col_lev = round(df[col].value_counts(normalize=True).values[0] * 100, 2)\n",
    "\n",
    "      if col_lev > level:\n",
    "            item = (\n",
    "               col, \n",
    "               df[col].nunique(), \n",
    "               df[col].value_counts(normalize=True).index[0], \n",
    "               col_lev, \n",
    "               df[col].value_counts().values[0]\n",
    "               )\n",
    "            # добавляем кортеж в список\n",
    "            unique_list.append(item)\n",
    "\n",
    "   unique_values = pd.DataFrame(\n",
    "      unique_list,\n",
    "      columns=['Column Name', 'Count Unique', 'Top Value', 'Top Value %', 'Top Value Count']\n",
    "      )\n",
    "\n",
    "   return unique_values\n",
    "\n",
    "get_top_unique_values(data, level=95)"
   ]
  },
  {
   "cell_type": "markdown",
   "id": "d6036880",
   "metadata": {},
   "source": [
    "Как видно список неинформативных признаков (с количество неуникальных значений больше 95%) пуст"
   ]
  },
  {
   "cell_type": "code",
   "execution_count": 35,
   "id": "92f777da",
   "metadata": {
    "execution": {
     "iopub.execute_input": "2022-02-08T19:14:35.319524Z",
     "iopub.status.busy": "2022-02-08T19:14:35.318915Z",
     "iopub.status.idle": "2022-02-08T19:14:36.185657Z",
     "shell.execute_reply": "2022-02-08T19:14:36.186104Z",
     "shell.execute_reply.started": "2022-02-08T18:44:34.500478Z"
    },
    "papermill": {
     "duration": 0.902939,
     "end_time": "2022-02-08T19:14:36.186284",
     "exception": false,
     "start_time": "2022-02-08T19:14:35.283345",
     "status": "completed"
    },
    "tags": []
   },
   "outputs": [
    {
     "data": {
      "text/plain": [
       "additional_number_of_scoring                    480\n",
       "average_score                                    34\n",
       "review_total_negative_word_counts               402\n",
       "total_number_of_reviews                        1142\n",
       "review_total_positive_word_counts               365\n",
       "total_number_of_reviews_reviewer_has_given      198\n",
       "days_since_review                               256\n",
       "lat                                            1475\n",
       "lng                                            1475\n",
       "sample                                            2\n",
       "reviewer_score                                   38\n",
       "hotel_country_code                                6\n",
       "reviewer_nationality_code                       227\n",
       "is_trip                                           2\n",
       "is_mobile                                         2\n",
       "is_couple                                         2\n",
       "count_nights                                     31\n",
       "review_month                                     12\n",
       "review_total_word_diff_norm                   17974\n",
       "more_positive                                     2\n",
       "positive_words_proportion                     10848\n",
       "neg_review_sentiments_neg                       799\n",
       "neg_review_sentiments_neu                       933\n",
       "neg_review_sentiments_pos                       921\n",
       "neg_review_sentiments_compound                16073\n",
       "pos_review_sentiments_neg                       810\n",
       "pos_review_sentiments_neu                       945\n",
       "pos_review_sentiments_pos                       947\n",
       "pos_review_sentiments_compound                 7515\n",
       "dtype: int64"
      ]
     },
     "execution_count": 35,
     "metadata": {},
     "output_type": "execute_result"
    }
   ],
   "source": [
    "data.nunique(dropna=False)"
   ]
  },
  {
   "cell_type": "markdown",
   "id": "768f184d",
   "metadata": {},
   "source": [
    "### 2.2 Анализ мультиколлинеарности"
   ]
  },
  {
   "cell_type": "code",
   "execution_count": 36,
   "id": "6be9bca7",
   "metadata": {},
   "outputs": [
    {
     "data": {
      "image/png": "[encoded data removed]",
      "text/plain": [
       "<Figure size 1080x864 with 2 Axes>"
      ]
     },
     "metadata": {
      "needs_background": "light"
     },
     "output_type": "display_data"
    }
   ],
   "source": [
    "#Разделим признаки по типу\n",
    "#Количественные\n",
    "cols_num = [\n",
    "    'review_total_negative_word_counts',\n",
    "    'review_total_positive_word_counts',\n",
    "    'review_total_word_diff_norm',\n",
    "    'total_number_of_reviews_reviewer_has_given',\n",
    "    'positive_words_proportion',\n",
    "    'neg_review_sentiments_neg',\n",
    "    'neg_review_sentiments_neu',\n",
    "    'neg_review_sentiments_pos',\n",
    "    'neg_review_sentiments_compound',\n",
    "    'pos_review_sentiments_neg',\n",
    "    'pos_review_sentiments_neu',\n",
    "    'pos_review_sentiments_pos',\n",
    "    'pos_review_sentiments_compound'   \n",
    "]\n",
    "#Категориальные\n",
    "cols_cat = [\n",
    "    'lat',\n",
    "    'lng',\n",
    "    'is_trip',\n",
    "    'is_mobile',\n",
    "    'is_couple',\n",
    "    'additional_number_of_scoring',\n",
    "    'average_score',\n",
    "    'total_number_of_reviews',\n",
    "    'days_since_review',\n",
    "    'hotel_country_code',\n",
    "    'reviewer_nationality_code',\n",
    "    'count_nights',\n",
    "    'review_month',\n",
    "    'more_positive'\n",
    "]\n",
    "#Построим тепловую диаграмму корреляции количественных признаков\n",
    "fig_, ax_ = plt.subplots(figsize=(15, 12))\n",
    "corr = data[cols_num].corr(method='pearson')\n",
    "mask = np.triu(np.ones_like(corr, dtype=bool))\n",
    "sns.heatmap(corr, \n",
    "            annot=True, \n",
    "            linewidths=0.1, \n",
    "            ax=ax_, \n",
    "            mask=mask, \n",
    "            cmap='viridis',\n",
    "            fmt='.1g')\n",
    "ax_.set_title('Корреляция количественных признаков', fontsize=18)\n",
    "plt.show()"
   ]
  },
  {
   "cell_type": "code",
   "execution_count": 37,
   "id": "7ad46b97",
   "metadata": {},
   "outputs": [
    {
     "data": {
      "image/png": "[encoded data removed]",
      "text/plain": [
       "<Figure size 1080x864 with 2 Axes>"
      ]
     },
     "metadata": {
      "needs_background": "light"
     },
     "output_type": "display_data"
    }
   ],
   "source": [
    "#Отметим количественные признаки с корреляцией больше 0,8\n",
    "del_cols = ['neg_review_sentiments_neu', 'review_total_word_diff_norm']\n",
    "\n",
    "#Построим тепловую диаграмму корреляции категориальных признаков\n",
    "fig_, ax_ = plt.subplots(figsize=(15, 12))\n",
    "corr = data[cols_cat].corr(method='spearman')\n",
    "mask = np.triu(np.ones_like(corr, dtype=bool))\n",
    "sns.heatmap(corr, \n",
    "            annot=True, \n",
    "            linewidths=0.1, \n",
    "            ax=ax_, \n",
    "            mask=mask, \n",
    "            cmap='inferno',\n",
    "            fmt='.1g')\n",
    "ax_.set_title('Корреляция категориальных признаков', fontsize=18)\n",
    "plt.show()"
   ]
  },
  {
   "cell_type": "code",
   "execution_count": 38,
   "id": "f379c160",
   "metadata": {},
   "outputs": [
    {
     "name": "stdout",
     "output_type": "stream",
     "text": [
      "Осталось признаков: 25\n"
     ]
    }
   ],
   "source": [
    "#Отметим категориальные признаки с корреляцией больше 0,8\n",
    "del_cols += ['additional_number_of_scoring', 'hotel_country_code']\n",
    "#Удаляем признаки, попавшие в список del_cols\n",
    "data.drop(del_cols, axis = 1, inplace=True)\n",
    "print('Осталось признаков: {}'.format(data.shape[1]))"
   ]
  },
  {
   "cell_type": "markdown",
   "id": "1c522f82",
   "metadata": {},
   "source": [
    "### 2.3 Анализ значимости признаков"
   ]
  },
  {
   "cell_type": "code",
   "execution_count": 39,
   "id": "3bc50cc6",
   "metadata": {},
   "outputs": [
    {
     "data": {
      "image/png": "[encoded data removed]",
      "text/plain": [
       "<Figure size 1080x1440 with 1 Axes>"
      ]
     },
     "metadata": {
      "needs_background": "light"
     },
     "output_type": "display_data"
    }
   ],
   "source": [
    "#Для оценки значимости категориальных признаков будем использовать тест хи-квадрат, для числовых признаков — тест ANOVA:\n",
    "y = data.query('sample == 1').drop(['sample'], axis=1)['reviewer_score'].values\n",
    "X = data.query('sample == 1').drop(['sample', 'reviewer_score'], axis=1)\n",
    "\n",
    "# визуализируем результат анализа значимости:\n",
    "imp_num = pd.Series(f_classif(X[X.columns], y)[0], index = X.columns)\n",
    "imp_num.sort_values(inplace = True)\n",
    "\n",
    "fig5, ax5 = plt.subplots(figsize=(15, 20))\n",
    "imp_num.plot(kind = 'barh', color='blue');"
   ]
  },
  {
   "cell_type": "code",
   "execution_count": 40,
   "id": "4931952b",
   "metadata": {},
   "outputs": [
    {
     "name": "stdout",
     "output_type": "stream",
     "text": [
      "ВСЕГО ПРИЗНАКОВ: 22\n"
     ]
    }
   ],
   "source": [
    "#Также удалим признаки, почти не коррелирующие с целевым показателем: days_since_review, review_month , count_nights\n",
    "cols_for_del = ['days_since_review', 'review_month', 'count_nights']\n",
    "data.drop(cols_for_del, axis = 1, inplace=True)\n",
    "print('ВСЕГО ПРИЗНАКОВ: {}'.format(data.shape[1]))"
   ]
  },
  {
   "cell_type": "markdown",
   "id": "59ce5e74",
   "metadata": {},
   "source": [
    "## 3. Обучение модели"
   ]
  },
  {
   "cell_type": "code",
   "execution_count": 41,
   "id": "69e46903",
   "metadata": {
    "execution": {
     "iopub.execute_input": "2022-02-08T19:14:37.505890Z",
     "iopub.status.busy": "2022-02-08T19:14:37.505020Z",
     "iopub.status.idle": "2022-02-08T19:14:37.548588Z",
     "shell.execute_reply": "2022-02-08T19:14:37.549135Z",
     "shell.execute_reply.started": "2022-02-08T18:44:36.519234Z"
    },
    "papermill": {
     "duration": 0.076208,
     "end_time": "2022-02-08T19:14:37.549330",
     "exception": false,
     "start_time": "2022-02-08T19:14:37.473122",
     "status": "completed"
    },
    "tags": []
   },
   "outputs": [],
   "source": [
    "# Теперь выделим тестовую часть\n",
    "train_data = data.query('sample == 1').drop(['sample'], axis=1)\n",
    "test_data = data.query('sample == 0').drop(['sample'], axis=1)\n",
    "\n",
    "y = train_data.reviewer_score.values            # наш таргет\n",
    "X = train_data.drop(['reviewer_score'], axis=1)"
   ]
  },
  {
   "cell_type": "code",
   "execution_count": 42,
   "id": "5045cc9a",
   "metadata": {
    "execution": {
     "iopub.execute_input": "2022-02-08T19:14:37.610632Z",
     "iopub.status.busy": "2022-02-08T19:14:37.607245Z",
     "iopub.status.idle": "2022-02-08T19:14:37.664876Z",
     "shell.execute_reply": "2022-02-08T19:14:37.664240Z",
     "shell.execute_reply.started": "2022-02-08T18:44:36.564379Z"
    },
    "papermill": {
     "duration": 0.089229,
     "end_time": "2022-02-08T19:14:37.665021",
     "exception": false,
     "start_time": "2022-02-08T19:14:37.575792",
     "status": "completed"
    },
    "tags": []
   },
   "outputs": [],
   "source": [
    "# Воспользуемся специальной функцие train_test_split для разбивки тестовых данных\n",
    "# выделим 20% данных на валидацию (параметр test_size)\n",
    "X_train, X_test, y_train, y_test = train_test_split(X, y, test_size=0.2, random_state=RANDOM_SEED)"
   ]
  },
  {
   "cell_type": "code",
   "execution_count": 43,
   "id": "3da6a0b4",
   "metadata": {
    "execution": {
     "iopub.execute_input": "2022-02-08T19:14:37.724787Z",
     "iopub.status.busy": "2022-02-08T19:14:37.724146Z",
     "iopub.status.idle": "2022-02-08T19:14:37.726536Z",
     "shell.execute_reply": "2022-02-08T19:14:37.726982Z",
     "shell.execute_reply.started": "2022-02-08T18:44:36.614037Z"
    },
    "papermill": {
     "duration": 0.035799,
     "end_time": "2022-02-08T19:14:37.727149",
     "exception": false,
     "start_time": "2022-02-08T19:14:37.691350",
     "status": "completed"
    },
    "tags": []
   },
   "outputs": [
    {
     "data": {
      "text/plain": [
       "((128935, 21), (386803, 21), (386803, 20), (309442, 20), (77361, 20))"
      ]
     },
     "execution_count": 43,
     "metadata": {},
     "output_type": "execute_result"
    }
   ],
   "source": [
    "# проверяем\n",
    "test_data.shape, train_data.shape, X.shape, X_train.shape, X_test.shape"
   ]
  },
  {
   "cell_type": "code",
   "execution_count": 44,
   "id": "cc67dfef",
   "metadata": {
    "execution": {
     "iopub.execute_input": "2022-02-08T19:14:38.033380Z",
     "iopub.status.busy": "2022-02-08T19:14:38.032424Z",
     "iopub.status.idle": "2022-02-08T19:14:38.036262Z",
     "shell.execute_reply": "2022-02-08T19:14:38.036790Z",
     "shell.execute_reply.started": "2022-02-08T18:44:36.631597Z"
    },
    "papermill": {
     "duration": 0.034367,
     "end_time": "2022-02-08T19:14:38.036955",
     "exception": false,
     "start_time": "2022-02-08T19:14:38.002588",
     "status": "completed"
    },
    "tags": []
   },
   "outputs": [],
   "source": [
    "# Создаём модель (НАСТРОЙКИ НЕ ТРОГАЕМ)\n",
    "model = RandomForestRegressor(n_estimators=100, verbose=1, n_jobs=-1, random_state=RANDOM_SEED)"
   ]
  },
  {
   "cell_type": "code",
   "execution_count": 45,
   "id": "38c6100a",
   "metadata": {
    "execution": {
     "iopub.execute_input": "2022-02-08T19:14:38.100230Z",
     "iopub.status.busy": "2022-02-08T19:14:38.098907Z",
     "iopub.status.idle": "2022-02-08T19:15:29.981505Z",
     "shell.execute_reply": "2022-02-08T19:15:29.982012Z",
     "shell.execute_reply.started": "2022-02-08T18:44:36.685783Z"
    },
    "papermill": {
     "duration": 51.917696,
     "end_time": "2022-02-08T19:15:29.982201",
     "exception": false,
     "start_time": "2022-02-08T19:14:38.064505",
     "status": "completed"
    },
    "tags": []
   },
   "outputs": [
    {
     "name": "stderr",
     "output_type": "stream",
     "text": [
      "[Parallel(n_jobs=-1)]: Using backend ThreadingBackend with 12 concurrent workers.\n",
      "[Parallel(n_jobs=-1)]: Done  26 tasks      | elapsed:   17.1s\n",
      "[Parallel(n_jobs=-1)]: Done 100 out of 100 | elapsed:   52.8s finished\n",
      "[Parallel(n_jobs=12)]: Using backend ThreadingBackend with 12 concurrent workers.\n",
      "[Parallel(n_jobs=12)]: Done  26 tasks      | elapsed:    0.1s\n",
      "[Parallel(n_jobs=12)]: Done 100 out of 100 | elapsed:    0.6s finished\n"
     ]
    }
   ],
   "source": [
    "# Обучаем модель на тестовом наборе данных\n",
    "model.fit(X_train, y_train)\n",
    "\n",
    "# Используем обученную модель для предсказания рейтинга ресторанов в тестовой выборке.\n",
    "# Предсказанные значения записываем в переменную y_pred\n",
    "y_pred = model.predict(X_test)"
   ]
  },
  {
   "cell_type": "code",
   "execution_count": 46,
   "id": "0bfbd9da",
   "metadata": {
    "execution": {
     "iopub.execute_input": "2022-02-08T19:15:30.047401Z",
     "iopub.status.busy": "2022-02-08T19:15:30.045169Z",
     "iopub.status.idle": "2022-02-08T19:15:30.054658Z",
     "shell.execute_reply": "2022-02-08T19:15:30.053627Z",
     "shell.execute_reply.started": "2022-02-08T18:45:41.407883Z"
    },
    "papermill": {
     "duration": 0.043029,
     "end_time": "2022-02-08T19:15:30.054903",
     "exception": false,
     "start_time": "2022-02-08T19:15:30.011874",
     "status": "completed"
    },
    "tags": []
   },
   "outputs": [
    {
     "name": "stdout",
     "output_type": "stream",
     "text": [
      "MAPE: 12.13\n"
     ]
    }
   ],
   "source": [
    "# Сравниваем предсказанные значения (y_pred) с реальными (y_test), и смотрим насколько они в среднем отличаются\n",
    "# Метрика называется Mean Absolute Percentage Error (MAPE) и показывает среднее отклонение предсказанных значений от фактических.\n",
    "def mean_absolute_percentage_error(y_tr, y_pr):\n",
    "    \"\"\"Получение средней абсолютной ошибки\"\"\"\n",
    "    y_tr, y_pr = np.array(y_tr), np.array(y_pr)\n",
    "    return np.mean(np.abs((y_tr - y_pr) / y_tr)) * 100\n",
    "\n",
    "print('MAPE:', round(mean_absolute_percentage_error(y_test, y_pred), 2))"
   ]
  },
  {
   "cell_type": "code",
   "execution_count": 47,
   "id": "db88cbfc",
   "metadata": {
    "execution": {
     "iopub.execute_input": "2022-02-08T19:15:30.118909Z",
     "iopub.status.busy": "2022-02-08T19:15:30.118206Z",
     "iopub.status.idle": "2022-02-08T19:15:30.566895Z",
     "shell.execute_reply": "2022-02-08T19:15:30.567333Z",
     "shell.execute_reply.started": "2022-02-08T18:45:41.416087Z"
    },
    "papermill": {
     "duration": 0.483326,
     "end_time": "2022-02-08T19:15:30.567502",
     "exception": false,
     "start_time": "2022-02-08T19:15:30.084176",
     "status": "completed"
    },
    "tags": []
   },
   "outputs": [
    {
     "data": {
      "text/plain": [
       "<AxesSubplot:>"
      ]
     },
     "execution_count": 47,
     "metadata": {},
     "output_type": "execute_result"
    },
    {
     "data": {
      "image/png": "[encoded data removed]",
      "text/plain": [
       "<Figure size 720x720 with 1 Axes>"
      ]
     },
     "metadata": {
      "needs_background": "light"
     },
     "output_type": "display_data"
    }
   ],
   "source": [
    "# в RandomForestRegressor есть возможность вывести самые важные признаки для модели\n",
    "plt.rcParams['figure.figsize'] = (10,10)\n",
    "feat_importances = pd.Series(model.feature_importances_, index=X.columns)\n",
    "feat_importances.nlargest(15).plot(kind='barh')"
   ]
  },
  {
   "cell_type": "code",
   "execution_count": 48,
   "id": "bd9c9908",
   "metadata": {
    "execution": {
     "iopub.execute_input": "2022-02-08T19:15:30.625115Z",
     "iopub.status.busy": "2022-02-08T19:15:30.624515Z",
     "iopub.status.idle": "2022-02-08T19:15:30.639827Z",
     "shell.execute_reply": "2022-02-08T19:15:30.640317Z",
     "shell.execute_reply.started": "2022-02-08T18:45:41.866035Z"
    },
    "papermill": {
     "duration": 0.045936,
     "end_time": "2022-02-08T19:15:30.640491",
     "exception": false,
     "start_time": "2022-02-08T19:15:30.594555",
     "status": "completed"
    },
    "tags": []
   },
   "outputs": [
    {
     "data": {
      "text/html": [
       "<div>\n",
       "<style scoped>\n",
       "    .dataframe tbody tr th:only-of-type {\n",
       "        vertical-align: middle;\n",
       "    }\n",
       "\n",
       "    .dataframe tbody tr th {\n",
       "        vertical-align: top;\n",
       "    }\n",
       "\n",
       "    .dataframe thead th {\n",
       "        text-align: right;\n",
       "    }\n",
       "</style>\n",
       "<table border=\"1\" class=\"dataframe\">\n",
       "  <thead>\n",
       "    <tr style=\"text-align: right;\">\n",
       "      <th></th>\n",
       "      <th>average_score</th>\n",
       "      <th>review_total_negative_word_counts</th>\n",
       "      <th>total_number_of_reviews</th>\n",
       "      <th>review_total_positive_word_counts</th>\n",
       "      <th>total_number_of_reviews_reviewer_has_given</th>\n",
       "      <th>lat</th>\n",
       "      <th>lng</th>\n",
       "      <th>reviewer_score</th>\n",
       "      <th>reviewer_nationality_code</th>\n",
       "      <th>is_trip</th>\n",
       "      <th>...</th>\n",
       "      <th>is_couple</th>\n",
       "      <th>more_positive</th>\n",
       "      <th>positive_words_proportion</th>\n",
       "      <th>neg_review_sentiments_neg</th>\n",
       "      <th>neg_review_sentiments_pos</th>\n",
       "      <th>neg_review_sentiments_compound</th>\n",
       "      <th>pos_review_sentiments_neg</th>\n",
       "      <th>pos_review_sentiments_neu</th>\n",
       "      <th>pos_review_sentiments_pos</th>\n",
       "      <th>pos_review_sentiments_compound</th>\n",
       "    </tr>\n",
       "  </thead>\n",
       "  <tbody>\n",
       "    <tr>\n",
       "      <th>16278</th>\n",
       "      <td>7.5</td>\n",
       "      <td>3</td>\n",
       "      <td>5180</td>\n",
       "      <td>2</td>\n",
       "      <td>1.791759</td>\n",
       "      <td>51.514879</td>\n",
       "      <td>-0.160650</td>\n",
       "      <td>0.0</td>\n",
       "      <td>176</td>\n",
       "      <td>0</td>\n",
       "      <td>...</td>\n",
       "      <td>0</td>\n",
       "      <td>0</td>\n",
       "      <td>0.400000</td>\n",
       "      <td>0.000</td>\n",
       "      <td>0.000</td>\n",
       "      <td>0.0000</td>\n",
       "      <td>0.000</td>\n",
       "      <td>1.000</td>\n",
       "      <td>0.000</td>\n",
       "      <td>0.0000</td>\n",
       "    </tr>\n",
       "    <tr>\n",
       "      <th>48517</th>\n",
       "      <td>7.5</td>\n",
       "      <td>25</td>\n",
       "      <td>1733</td>\n",
       "      <td>14</td>\n",
       "      <td>0.693147</td>\n",
       "      <td>51.519586</td>\n",
       "      <td>-0.158480</td>\n",
       "      <td>0.0</td>\n",
       "      <td>214</td>\n",
       "      <td>0</td>\n",
       "      <td>...</td>\n",
       "      <td>0</td>\n",
       "      <td>0</td>\n",
       "      <td>0.358974</td>\n",
       "      <td>0.000</td>\n",
       "      <td>0.056</td>\n",
       "      <td>0.0772</td>\n",
       "      <td>0.065</td>\n",
       "      <td>0.432</td>\n",
       "      <td>0.503</td>\n",
       "      <td>0.8442</td>\n",
       "    </tr>\n",
       "    <tr>\n",
       "      <th>79997</th>\n",
       "      <td>9.3</td>\n",
       "      <td>14</td>\n",
       "      <td>720</td>\n",
       "      <td>7</td>\n",
       "      <td>3.401197</td>\n",
       "      <td>52.370261</td>\n",
       "      <td>4.903249</td>\n",
       "      <td>0.0</td>\n",
       "      <td>14</td>\n",
       "      <td>0</td>\n",
       "      <td>...</td>\n",
       "      <td>0</td>\n",
       "      <td>0</td>\n",
       "      <td>0.333333</td>\n",
       "      <td>0.000</td>\n",
       "      <td>0.000</td>\n",
       "      <td>0.0000</td>\n",
       "      <td>0.000</td>\n",
       "      <td>0.208</td>\n",
       "      <td>0.792</td>\n",
       "      <td>0.9081</td>\n",
       "    </tr>\n",
       "    <tr>\n",
       "      <th>31133</th>\n",
       "      <td>8.0</td>\n",
       "      <td>34</td>\n",
       "      <td>1069</td>\n",
       "      <td>2</td>\n",
       "      <td>1.098612</td>\n",
       "      <td>51.505454</td>\n",
       "      <td>-0.226222</td>\n",
       "      <td>0.0</td>\n",
       "      <td>214</td>\n",
       "      <td>0</td>\n",
       "      <td>...</td>\n",
       "      <td>0</td>\n",
       "      <td>0</td>\n",
       "      <td>0.055556</td>\n",
       "      <td>0.342</td>\n",
       "      <td>0.000</td>\n",
       "      <td>-0.8733</td>\n",
       "      <td>1.000</td>\n",
       "      <td>0.000</td>\n",
       "      <td>0.000</td>\n",
       "      <td>-0.9325</td>\n",
       "    </tr>\n",
       "    <tr>\n",
       "      <th>117871</th>\n",
       "      <td>8.1</td>\n",
       "      <td>4</td>\n",
       "      <td>1918</td>\n",
       "      <td>6</td>\n",
       "      <td>0.693147</td>\n",
       "      <td>41.393863</td>\n",
       "      <td>2.156804</td>\n",
       "      <td>0.0</td>\n",
       "      <td>214</td>\n",
       "      <td>0</td>\n",
       "      <td>...</td>\n",
       "      <td>0</td>\n",
       "      <td>1</td>\n",
       "      <td>0.600000</td>\n",
       "      <td>0.000</td>\n",
       "      <td>0.000</td>\n",
       "      <td>0.0000</td>\n",
       "      <td>0.000</td>\n",
       "      <td>0.164</td>\n",
       "      <td>0.836</td>\n",
       "      <td>0.8807</td>\n",
       "    </tr>\n",
       "    <tr>\n",
       "      <th>1043</th>\n",
       "      <td>8.4</td>\n",
       "      <td>10</td>\n",
       "      <td>3911</td>\n",
       "      <td>68</td>\n",
       "      <td>1.791759</td>\n",
       "      <td>52.376752</td>\n",
       "      <td>4.904618</td>\n",
       "      <td>0.0</td>\n",
       "      <td>216</td>\n",
       "      <td>0</td>\n",
       "      <td>...</td>\n",
       "      <td>0</td>\n",
       "      <td>1</td>\n",
       "      <td>0.871795</td>\n",
       "      <td>0.149</td>\n",
       "      <td>0.000</td>\n",
       "      <td>-0.1027</td>\n",
       "      <td>0.000</td>\n",
       "      <td>0.776</td>\n",
       "      <td>0.224</td>\n",
       "      <td>0.9475</td>\n",
       "    </tr>\n",
       "    <tr>\n",
       "      <th>12584</th>\n",
       "      <td>8.3</td>\n",
       "      <td>26</td>\n",
       "      <td>4684</td>\n",
       "      <td>12</td>\n",
       "      <td>0.693147</td>\n",
       "      <td>51.491374</td>\n",
       "      <td>-0.121419</td>\n",
       "      <td>0.0</td>\n",
       "      <td>214</td>\n",
       "      <td>1</td>\n",
       "      <td>...</td>\n",
       "      <td>1</td>\n",
       "      <td>0</td>\n",
       "      <td>0.315789</td>\n",
       "      <td>0.115</td>\n",
       "      <td>0.107</td>\n",
       "      <td>-0.0516</td>\n",
       "      <td>0.000</td>\n",
       "      <td>0.385</td>\n",
       "      <td>0.615</td>\n",
       "      <td>0.9041</td>\n",
       "    </tr>\n",
       "    <tr>\n",
       "      <th>30099</th>\n",
       "      <td>8.3</td>\n",
       "      <td>0</td>\n",
       "      <td>168</td>\n",
       "      <td>4</td>\n",
       "      <td>0.693147</td>\n",
       "      <td>48.873485</td>\n",
       "      <td>2.348511</td>\n",
       "      <td>0.0</td>\n",
       "      <td>14</td>\n",
       "      <td>1</td>\n",
       "      <td>...</td>\n",
       "      <td>1</td>\n",
       "      <td>1</td>\n",
       "      <td>1.000000</td>\n",
       "      <td>0.000</td>\n",
       "      <td>1.000</td>\n",
       "      <td>0.5574</td>\n",
       "      <td>0.000</td>\n",
       "      <td>0.339</td>\n",
       "      <td>0.661</td>\n",
       "      <td>0.5994</td>\n",
       "    </tr>\n",
       "    <tr>\n",
       "      <th>11245</th>\n",
       "      <td>8.9</td>\n",
       "      <td>3</td>\n",
       "      <td>3168</td>\n",
       "      <td>59</td>\n",
       "      <td>2.564949</td>\n",
       "      <td>51.528677</td>\n",
       "      <td>-0.128349</td>\n",
       "      <td>0.0</td>\n",
       "      <td>214</td>\n",
       "      <td>0</td>\n",
       "      <td>...</td>\n",
       "      <td>0</td>\n",
       "      <td>1</td>\n",
       "      <td>0.951613</td>\n",
       "      <td>0.000</td>\n",
       "      <td>1.000</td>\n",
       "      <td>0.9325</td>\n",
       "      <td>0.000</td>\n",
       "      <td>0.638</td>\n",
       "      <td>0.362</td>\n",
       "      <td>0.9753</td>\n",
       "    </tr>\n",
       "    <tr>\n",
       "      <th>3096</th>\n",
       "      <td>8.7</td>\n",
       "      <td>2</td>\n",
       "      <td>493</td>\n",
       "      <td>9</td>\n",
       "      <td>2.890372</td>\n",
       "      <td>48.886467</td>\n",
       "      <td>2.294891</td>\n",
       "      <td>0.0</td>\n",
       "      <td>213</td>\n",
       "      <td>1</td>\n",
       "      <td>...</td>\n",
       "      <td>1</td>\n",
       "      <td>1</td>\n",
       "      <td>0.818182</td>\n",
       "      <td>0.000</td>\n",
       "      <td>1.000</td>\n",
       "      <td>0.9325</td>\n",
       "      <td>0.000</td>\n",
       "      <td>0.161</td>\n",
       "      <td>0.839</td>\n",
       "      <td>0.9744</td>\n",
       "    </tr>\n",
       "  </tbody>\n",
       "</table>\n",
       "<p>10 rows × 21 columns</p>\n",
       "</div>"
      ],
      "text/plain": [
       "        average_score  review_total_negative_word_counts  \\\n",
       "16278             7.5                                  3   \n",
       "48517             7.5                                 25   \n",
       "79997             9.3                                 14   \n",
       "31133             8.0                                 34   \n",
       "117871            8.1                                  4   \n",
       "1043              8.4                                 10   \n",
       "12584             8.3                                 26   \n",
       "30099             8.3                                  0   \n",
       "11245             8.9                                  3   \n",
       "3096              8.7                                  2   \n",
       "\n",
       "        total_number_of_reviews  review_total_positive_word_counts  \\\n",
       "16278                      5180                                  2   \n",
       "48517                      1733                                 14   \n",
       "79997                       720                                  7   \n",
       "31133                      1069                                  2   \n",
       "117871                     1918                                  6   \n",
       "1043                       3911                                 68   \n",
       "12584                      4684                                 12   \n",
       "30099                       168                                  4   \n",
       "11245                      3168                                 59   \n",
       "3096                        493                                  9   \n",
       "\n",
       "        total_number_of_reviews_reviewer_has_given        lat       lng  \\\n",
       "16278                                     1.791759  51.514879 -0.160650   \n",
       "48517                                     0.693147  51.519586 -0.158480   \n",
       "79997                                     3.401197  52.370261  4.903249   \n",
       "31133                                     1.098612  51.505454 -0.226222   \n",
       "117871                                    0.693147  41.393863  2.156804   \n",
       "1043                                      1.791759  52.376752  4.904618   \n",
       "12584                                     0.693147  51.491374 -0.121419   \n",
       "30099                                     0.693147  48.873485  2.348511   \n",
       "11245                                     2.564949  51.528677 -0.128349   \n",
       "3096                                      2.890372  48.886467  2.294891   \n",
       "\n",
       "        reviewer_score  reviewer_nationality_code  is_trip  ...  is_couple  \\\n",
       "16278              0.0                        176        0  ...          0   \n",
       "48517              0.0                        214        0  ...          0   \n",
       "79997              0.0                         14        0  ...          0   \n",
       "31133              0.0                        214        0  ...          0   \n",
       "117871             0.0                        214        0  ...          0   \n",
       "1043               0.0                        216        0  ...          0   \n",
       "12584              0.0                        214        1  ...          1   \n",
       "30099              0.0                         14        1  ...          1   \n",
       "11245              0.0                        214        0  ...          0   \n",
       "3096               0.0                        213        1  ...          1   \n",
       "\n",
       "        more_positive  positive_words_proportion  neg_review_sentiments_neg  \\\n",
       "16278               0                   0.400000                      0.000   \n",
       "48517               0                   0.358974                      0.000   \n",
       "79997               0                   0.333333                      0.000   \n",
       "31133               0                   0.055556                      0.342   \n",
       "117871              1                   0.600000                      0.000   \n",
       "1043                1                   0.871795                      0.149   \n",
       "12584               0                   0.315789                      0.115   \n",
       "30099               1                   1.000000                      0.000   \n",
       "11245               1                   0.951613                      0.000   \n",
       "3096                1                   0.818182                      0.000   \n",
       "\n",
       "        neg_review_sentiments_pos  neg_review_sentiments_compound  \\\n",
       "16278                       0.000                          0.0000   \n",
       "48517                       0.056                          0.0772   \n",
       "79997                       0.000                          0.0000   \n",
       "31133                       0.000                         -0.8733   \n",
       "117871                      0.000                          0.0000   \n",
       "1043                        0.000                         -0.1027   \n",
       "12584                       0.107                         -0.0516   \n",
       "30099                       1.000                          0.5574   \n",
       "11245                       1.000                          0.9325   \n",
       "3096                        1.000                          0.9325   \n",
       "\n",
       "        pos_review_sentiments_neg  pos_review_sentiments_neu  \\\n",
       "16278                       0.000                      1.000   \n",
       "48517                       0.065                      0.432   \n",
       "79997                       0.000                      0.208   \n",
       "31133                       1.000                      0.000   \n",
       "117871                      0.000                      0.164   \n",
       "1043                        0.000                      0.776   \n",
       "12584                       0.000                      0.385   \n",
       "30099                       0.000                      0.339   \n",
       "11245                       0.000                      0.638   \n",
       "3096                        0.000                      0.161   \n",
       "\n",
       "        pos_review_sentiments_pos  pos_review_sentiments_compound  \n",
       "16278                       0.000                          0.0000  \n",
       "48517                       0.503                          0.8442  \n",
       "79997                       0.792                          0.9081  \n",
       "31133                       0.000                         -0.9325  \n",
       "117871                      0.836                          0.8807  \n",
       "1043                        0.224                          0.9475  \n",
       "12584                       0.615                          0.9041  \n",
       "30099                       0.661                          0.5994  \n",
       "11245                       0.362                          0.9753  \n",
       "3096                        0.839                          0.9744  \n",
       "\n",
       "[10 rows x 21 columns]"
      ]
     },
     "execution_count": 48,
     "metadata": {},
     "output_type": "execute_result"
    }
   ],
   "source": [
    "test_data.sample(10)"
   ]
  },
  {
   "cell_type": "code",
   "execution_count": 49,
   "id": "a9a6da4d",
   "metadata": {
    "execution": {
     "iopub.execute_input": "2022-02-08T19:15:30.705058Z",
     "iopub.status.busy": "2022-02-08T19:15:30.704107Z",
     "iopub.status.idle": "2022-02-08T19:15:30.711398Z",
     "shell.execute_reply": "2022-02-08T19:15:30.711831Z",
     "shell.execute_reply.started": "2022-02-08T18:45:41.885567Z"
    },
    "papermill": {
     "duration": 0.041402,
     "end_time": "2022-02-08T19:15:30.712005",
     "exception": false,
     "start_time": "2022-02-08T19:15:30.670603",
     "status": "completed"
    },
    "tags": []
   },
   "outputs": [],
   "source": [
    "test_data = test_data.drop(['reviewer_score'], axis=1)"
   ]
  },
  {
   "cell_type": "code",
   "execution_count": 50,
   "id": "82996041",
   "metadata": {
    "execution": {
     "iopub.execute_input": "2022-02-08T19:15:30.776119Z",
     "iopub.status.busy": "2022-02-08T19:15:30.775182Z",
     "iopub.status.idle": "2022-02-08T19:15:30.784841Z",
     "shell.execute_reply": "2022-02-08T19:15:30.785251Z",
     "shell.execute_reply.started": "2022-02-08T18:45:41.893309Z"
    },
    "papermill": {
     "duration": 0.043997,
     "end_time": "2022-02-08T19:15:30.785439",
     "exception": false,
     "start_time": "2022-02-08T19:15:30.741442",
     "status": "completed"
    },
    "tags": []
   },
   "outputs": [
    {
     "data": {
      "text/html": [
       "<div>\n",
       "<style scoped>\n",
       "    .dataframe tbody tr th:only-of-type {\n",
       "        vertical-align: middle;\n",
       "    }\n",
       "\n",
       "    .dataframe tbody tr th {\n",
       "        vertical-align: top;\n",
       "    }\n",
       "\n",
       "    .dataframe thead th {\n",
       "        text-align: right;\n",
       "    }\n",
       "</style>\n",
       "<table border=\"1\" class=\"dataframe\">\n",
       "  <thead>\n",
       "    <tr style=\"text-align: right;\">\n",
       "      <th></th>\n",
       "      <th>reviewer_score</th>\n",
       "      <th>id</th>\n",
       "    </tr>\n",
       "  </thead>\n",
       "  <tbody>\n",
       "    <tr>\n",
       "      <th>0</th>\n",
       "      <td>1</td>\n",
       "      <td>488440</td>\n",
       "    </tr>\n",
       "    <tr>\n",
       "      <th>1</th>\n",
       "      <td>10</td>\n",
       "      <td>274649</td>\n",
       "    </tr>\n",
       "    <tr>\n",
       "      <th>2</th>\n",
       "      <td>3</td>\n",
       "      <td>374688</td>\n",
       "    </tr>\n",
       "    <tr>\n",
       "      <th>3</th>\n",
       "      <td>10</td>\n",
       "      <td>404352</td>\n",
       "    </tr>\n",
       "    <tr>\n",
       "      <th>4</th>\n",
       "      <td>9</td>\n",
       "      <td>451596</td>\n",
       "    </tr>\n",
       "    <tr>\n",
       "      <th>...</th>\n",
       "      <td>...</td>\n",
       "      <td>...</td>\n",
       "    </tr>\n",
       "    <tr>\n",
       "      <th>128930</th>\n",
       "      <td>7</td>\n",
       "      <td>495812</td>\n",
       "    </tr>\n",
       "    <tr>\n",
       "      <th>128931</th>\n",
       "      <td>1</td>\n",
       "      <td>315577</td>\n",
       "    </tr>\n",
       "    <tr>\n",
       "      <th>128932</th>\n",
       "      <td>3</td>\n",
       "      <td>511968</td>\n",
       "    </tr>\n",
       "    <tr>\n",
       "      <th>128933</th>\n",
       "      <td>6</td>\n",
       "      <td>303386</td>\n",
       "    </tr>\n",
       "    <tr>\n",
       "      <th>128934</th>\n",
       "      <td>5</td>\n",
       "      <td>103157</td>\n",
       "    </tr>\n",
       "  </tbody>\n",
       "</table>\n",
       "<p>128935 rows × 2 columns</p>\n",
       "</div>"
      ],
      "text/plain": [
       "        reviewer_score      id\n",
       "0                    1  488440\n",
       "1                   10  274649\n",
       "2                    3  374688\n",
       "3                   10  404352\n",
       "4                    9  451596\n",
       "...                ...     ...\n",
       "128930               7  495812\n",
       "128931               1  315577\n",
       "128932               3  511968\n",
       "128933               6  303386\n",
       "128934               5  103157\n",
       "\n",
       "[128935 rows x 2 columns]"
      ]
     },
     "execution_count": 50,
     "metadata": {},
     "output_type": "execute_result"
    }
   ],
   "source": [
    "sample_submission"
   ]
  },
  {
   "cell_type": "code",
   "execution_count": 51,
   "id": "17e3b4fd",
   "metadata": {
    "execution": {
     "iopub.execute_input": "2022-02-08T19:15:30.850529Z",
     "iopub.status.busy": "2022-02-08T19:15:30.849583Z",
     "iopub.status.idle": "2022-02-08T19:15:33.976874Z",
     "shell.execute_reply": "2022-02-08T19:15:33.976213Z",
     "shell.execute_reply.started": "2022-02-08T18:45:41.912914Z"
    },
    "papermill": {
     "duration": 3.16064,
     "end_time": "2022-02-08T19:15:33.977025",
     "exception": false,
     "start_time": "2022-02-08T19:15:30.816385",
     "status": "completed"
    },
    "tags": []
   },
   "outputs": [
    {
     "name": "stderr",
     "output_type": "stream",
     "text": [
      "[Parallel(n_jobs=12)]: Using backend ThreadingBackend with 12 concurrent workers.\n",
      "[Parallel(n_jobs=12)]: Done  26 tasks      | elapsed:    0.3s\n",
      "[Parallel(n_jobs=12)]: Done 100 out of 100 | elapsed:    1.1s finished\n"
     ]
    }
   ],
   "source": [
    "predict_submission = model.predict(test_data)"
   ]
  },
  {
   "cell_type": "code",
   "execution_count": 52,
   "id": "f8143893",
   "metadata": {
    "execution": {
     "iopub.execute_input": "2022-02-08T19:15:34.049725Z",
     "iopub.status.busy": "2022-02-08T19:15:34.048890Z",
     "iopub.status.idle": "2022-02-08T19:15:34.052717Z",
     "shell.execute_reply": "2022-02-08T19:15:34.053456Z",
     "shell.execute_reply.started": "2022-02-08T18:45:44.231424Z"
    },
    "papermill": {
     "duration": 0.043612,
     "end_time": "2022-02-08T19:15:34.053708",
     "exception": false,
     "start_time": "2022-02-08T19:15:34.010096",
     "status": "completed"
    },
    "tags": []
   },
   "outputs": [
    {
     "data": {
      "text/plain": [
       "array([8.446, 7.856, 8.111, ..., 7.865, 9.527, 7.784])"
      ]
     },
     "execution_count": 52,
     "metadata": {},
     "output_type": "execute_result"
    }
   ],
   "source": [
    "predict_submission"
   ]
  },
  {
   "cell_type": "code",
   "execution_count": 53,
   "id": "acc71a3c",
   "metadata": {
    "execution": {
     "iopub.execute_input": "2022-02-08T19:15:34.130523Z",
     "iopub.status.busy": "2022-02-08T19:15:34.129920Z",
     "iopub.status.idle": "2022-02-08T19:15:34.132622Z",
     "shell.execute_reply": "2022-02-08T19:15:34.133260Z",
     "shell.execute_reply.started": "2022-02-08T18:45:44.239621Z"
    },
    "papermill": {
     "duration": 0.044364,
     "end_time": "2022-02-08T19:15:34.133444",
     "exception": false,
     "start_time": "2022-02-08T19:15:34.089080",
     "status": "completed"
    },
    "tags": []
   },
   "outputs": [
    {
     "data": {
      "text/plain": [
       "['reviewer_score', 'id']"
      ]
     },
     "execution_count": 53,
     "metadata": {},
     "output_type": "execute_result"
    }
   ],
   "source": [
    "list(sample_submission)"
   ]
  },
  {
   "cell_type": "code",
   "execution_count": 54,
   "id": "9c5daa79",
   "metadata": {
    "execution": {
     "iopub.execute_input": "2022-02-08T19:15:34.202732Z",
     "iopub.status.busy": "2022-02-08T19:15:34.202121Z",
     "iopub.status.idle": "2022-02-08T19:15:34.484062Z",
     "shell.execute_reply": "2022-02-08T19:15:34.484469Z",
     "shell.execute_reply.started": "2022-02-08T18:45:44.250765Z"
    },
    "papermill": {
     "duration": 0.318018,
     "end_time": "2022-02-08T19:15:34.484637",
     "exception": false,
     "start_time": "2022-02-08T19:15:34.166619",
     "status": "completed"
    },
    "tags": []
   },
   "outputs": [
    {
     "data": {
      "text/html": [
       "<div>\n",
       "<style scoped>\n",
       "    .dataframe tbody tr th:only-of-type {\n",
       "        vertical-align: middle;\n",
       "    }\n",
       "\n",
       "    .dataframe tbody tr th {\n",
       "        vertical-align: top;\n",
       "    }\n",
       "\n",
       "    .dataframe thead th {\n",
       "        text-align: right;\n",
       "    }\n",
       "</style>\n",
       "<table border=\"1\" class=\"dataframe\">\n",
       "  <thead>\n",
       "    <tr style=\"text-align: right;\">\n",
       "      <th></th>\n",
       "      <th>reviewer_score</th>\n",
       "      <th>id</th>\n",
       "    </tr>\n",
       "  </thead>\n",
       "  <tbody>\n",
       "    <tr>\n",
       "      <th>0</th>\n",
       "      <td>8.446</td>\n",
       "      <td>488440</td>\n",
       "    </tr>\n",
       "    <tr>\n",
       "      <th>1</th>\n",
       "      <td>7.856</td>\n",
       "      <td>274649</td>\n",
       "    </tr>\n",
       "    <tr>\n",
       "      <th>2</th>\n",
       "      <td>8.111</td>\n",
       "      <td>374688</td>\n",
       "    </tr>\n",
       "    <tr>\n",
       "      <th>3</th>\n",
       "      <td>9.752</td>\n",
       "      <td>404352</td>\n",
       "    </tr>\n",
       "    <tr>\n",
       "      <th>4</th>\n",
       "      <td>9.565</td>\n",
       "      <td>451596</td>\n",
       "    </tr>\n",
       "    <tr>\n",
       "      <th>5</th>\n",
       "      <td>9.030</td>\n",
       "      <td>302161</td>\n",
       "    </tr>\n",
       "    <tr>\n",
       "      <th>6</th>\n",
       "      <td>7.537</td>\n",
       "      <td>317079</td>\n",
       "    </tr>\n",
       "    <tr>\n",
       "      <th>7</th>\n",
       "      <td>7.569</td>\n",
       "      <td>13963</td>\n",
       "    </tr>\n",
       "    <tr>\n",
       "      <th>8</th>\n",
       "      <td>8.272</td>\n",
       "      <td>159785</td>\n",
       "    </tr>\n",
       "    <tr>\n",
       "      <th>9</th>\n",
       "      <td>7.427</td>\n",
       "      <td>195089</td>\n",
       "    </tr>\n",
       "  </tbody>\n",
       "</table>\n",
       "</div>"
      ],
      "text/plain": [
       "   reviewer_score      id\n",
       "0           8.446  488440\n",
       "1           7.856  274649\n",
       "2           8.111  374688\n",
       "3           9.752  404352\n",
       "4           9.565  451596\n",
       "5           9.030  302161\n",
       "6           7.537  317079\n",
       "7           7.569   13963\n",
       "8           8.272  159785\n",
       "9           7.427  195089"
      ]
     },
     "execution_count": 54,
     "metadata": {},
     "output_type": "execute_result"
    }
   ],
   "source": [
    "sample_submission['reviewer_score'] = predict_submission\n",
    "sample_submission.to_csv('submission.csv', index=False)\n",
    "sample_submission.head(10)"
   ]
  }
 ],
 "metadata": {
  "kernelspec": {
   "display_name": "Python 3.9.10 64-bit",
   "language": "python",
   "name": "python3"
  },
  "language_info": {
   "codemirror_mode": {
    "name": "ipython",
    "version": 3
   },
   "file_extension": ".py",
   "mimetype": "text/x-python",
   "name": "python",
   "nbconvert_exporter": "python",
   "pygments_lexer": "ipython3",
   "version": "3.9.10"
  },
  "papermill": {
   "default_parameters": {},
   "duration": 82.712304,
   "end_time": "2022-02-08T19:15:35.720354",
   "environment_variables": {},
   "exception": null,
   "input_path": "__notebook__.ipynb",
   "output_path": "__notebook__.ipynb",
   "parameters": {},
   "start_time": "2022-02-08T19:14:13.008050",
   "version": "2.3.3"
  },
  "vscode": {
   "interpreter": {
    "hash": "11938c6bc6919ae2720b4d5011047913343b08a43b18698fd82dedb0d4417594"
   }
  }
 },
 "nbformat": 4,
 "nbformat_minor": 5
}
